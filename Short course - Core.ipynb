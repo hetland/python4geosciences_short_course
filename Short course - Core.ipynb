{
 "cells": [
  {
   "cell_type": "markdown",
   "metadata": {},
   "source": [
    "# Short course on programming in python"
   ]
  },
  {
   "cell_type": "markdown",
   "metadata": {},
   "source": [
    "# A. Variables\n",
    "\n",
    "Variables are used to store and modify values."
   ]
  },
  {
   "cell_type": "code",
   "execution_count": 1,
   "metadata": {
    "collapsed": false
   },
   "outputs": [
    {
     "name": "stdout",
     "output_type": "stream",
     "text": [
      "5 8.1415 0.6141374439599582\n"
     ]
    }
   ],
   "source": [
    "a = 5\n",
    "b = a + 3.1415\n",
    "c = a / b\n",
    "\n",
    "print(a, b, c)"
   ]
  },
  {
   "cell_type": "markdown",
   "metadata": {},
   "source": [
    "Note, we did not need to declare variable types (like in fortran), we could just assign anything to a variable and it works. This is the power of an interpreted (as opposed to compiled) language. Also, we can add different types (`a` is an integer, and we add the float 3.1415 to get `b`). The result is 'upcast' to whatever data type can handle the result. I.e., adding a float and an int results in a float.\n",
    "\n",
    "Variables can store lots of different kinds of data"
   ]
  },
  {
   "cell_type": "code",
   "execution_count": 2,
   "metadata": {
    "collapsed": true
   },
   "outputs": [],
   "source": [
    "s = 'Ice cream'            # A string\n",
    "f = [1, 2, 3, 4]           # A list\n",
    "d = 3.1415928              # A floating point number\n",
    "i = 5                      # An integer\n",
    "b = True                   # A boolean value"
   ]
  },
  {
   "cell_type": "markdown",
   "metadata": {},
   "source": [
    "*Side note*: Anything followed by a `#` is a comment, and is not considered part of the code. Comments are useful for explaining what a bit of code does. ___USE COMMENTS___"
   ]
  },
  {
   "cell_type": "markdown",
   "metadata": {},
   "source": [
    "You can see what `type` a variable has by using the `type` function, like"
   ]
  },
  {
   "cell_type": "code",
   "execution_count": 3,
   "metadata": {
    "collapsed": false
   },
   "outputs": [
    {
     "data": {
      "text/plain": [
       "str"
      ]
     },
     "execution_count": 3,
     "metadata": {},
     "output_type": "execute_result"
    }
   ],
   "source": [
    "type(s)"
   ]
  },
  {
   "cell_type": "markdown",
   "metadata": {},
   "source": [
    "---\n",
    "### *Exercise*\n",
    "\n",
    "> Use `type` to see the types of the other variables\n",
    "\n",
    "---"
   ]
  },
  {
   "cell_type": "code",
   "execution_count": null,
   "metadata": {
    "collapsed": true
   },
   "outputs": [],
   "source": []
  },
  {
   "cell_type": "markdown",
   "metadata": {},
   "source": [
    "You can test to see if a variable is a particular type by using the `isinstance(var, type)` function."
   ]
  },
  {
   "cell_type": "code",
   "execution_count": 4,
   "metadata": {
    "collapsed": false
   },
   "outputs": [
    {
     "data": {
      "text/plain": [
       "True"
      ]
     },
     "execution_count": 4,
     "metadata": {},
     "output_type": "execute_result"
    }
   ],
   "source": [
    "isinstance(s, str)  # is s a string?"
   ]
  },
  {
   "cell_type": "code",
   "execution_count": 5,
   "metadata": {
    "collapsed": false
   },
   "outputs": [
    {
     "data": {
      "text/plain": [
       "False"
      ]
     },
     "execution_count": 5,
     "metadata": {},
     "output_type": "execute_result"
    }
   ],
   "source": [
    "isinstance(s, int)  # is s an integer?"
   ]
  },
  {
   "cell_type": "markdown",
   "metadata": {},
   "source": [
    "# B. Tests for equality and inequality\n",
    "\n",
    "We can test the values of variables using different operators. These tests return a `Boolean` value. Either `True` or `False`. `False` is the same as zero, `True` is nonzero. Note that assignment `=` is different than a test of equality `==`."
   ]
  },
  {
   "cell_type": "code",
   "execution_count": 6,
   "metadata": {
    "collapsed": false
   },
   "outputs": [
    {
     "data": {
      "text/plain": [
       "True"
      ]
     },
     "execution_count": 6,
     "metadata": {},
     "output_type": "execute_result"
    }
   ],
   "source": [
    "a < 99"
   ]
  },
  {
   "cell_type": "code",
   "execution_count": 7,
   "metadata": {
    "collapsed": false
   },
   "outputs": [
    {
     "data": {
      "text/plain": [
       "False"
      ]
     },
     "execution_count": 7,
     "metadata": {},
     "output_type": "execute_result"
    }
   ],
   "source": [
    "b > 99"
   ]
  },
  {
   "cell_type": "code",
   "execution_count": 8,
   "metadata": {
    "collapsed": false
   },
   "outputs": [
    {
     "data": {
      "text/plain": [
       "True"
      ]
     },
     "execution_count": 8,
     "metadata": {},
     "output_type": "execute_result"
    }
   ],
   "source": [
    "a == 5"
   ]
  },
  {
   "cell_type": "markdown",
   "metadata": {},
   "source": [
    "There are other things that can be tested, not just mathematical equalities. For example, to test if an element is inside of a list or string (or any sequence, more on sequences below..), do"
   ]
  },
  {
   "cell_type": "code",
   "execution_count": 9,
   "metadata": {
    "collapsed": false
   },
   "outputs": [
    {
     "data": {
      "text/plain": [
       "True"
      ]
     },
     "execution_count": 9,
     "metadata": {},
     "output_type": "execute_result"
    }
   ],
   "source": [
    "5 in [1, 2, 3, 4, 5 ,6]"
   ]
  },
  {
   "cell_type": "code",
   "execution_count": 10,
   "metadata": {
    "collapsed": false
   },
   "outputs": [
    {
     "data": {
      "text/plain": [
       "True"
      ]
     },
     "execution_count": 10,
     "metadata": {},
     "output_type": "execute_result"
    }
   ],
   "source": [
    "'this' in 'What is this?'"
   ]
  },
  {
   "cell_type": "code",
   "execution_count": 11,
   "metadata": {
    "collapsed": false
   },
   "outputs": [
    {
     "data": {
      "text/plain": [
       "False"
      ]
     },
     "execution_count": 11,
     "metadata": {},
     "output_type": "execute_result"
    }
   ],
   "source": [
    "'that' in 'What is this?'"
   ]
  },
  {
   "cell_type": "markdown",
   "metadata": {},
   "source": [
    "# C. Strings\n",
    "\n",
    "Strings are made using various kinds of (matching) quotes. Examples:"
   ]
  },
  {
   "cell_type": "code",
   "execution_count": 12,
   "metadata": {
    "collapsed": true
   },
   "outputs": [],
   "source": [
    "s1 = 'hello'\n",
    "s2 = \"world\"\n",
    "s3 = '''Strings can \n",
    "also go over\n",
    "multiple lines.'''"
   ]
  },
  {
   "cell_type": "markdown",
   "metadata": {},
   "source": [
    "You can also 'add' strings using 'operator overloading', meaning that the plus sign can take on different meanings depending on the data types of the variables you are using it on."
   ]
  },
  {
   "cell_type": "code",
   "execution_count": 13,
   "metadata": {
    "collapsed": false
   },
   "outputs": [
    {
     "name": "stdout",
     "output_type": "stream",
     "text": [
      "hello world\n"
     ]
    }
   ],
   "source": [
    "print( s1 + ' ' + s2)  # note, we need the space otherwise we would get 'helloworld'"
   ]
  },
  {
   "cell_type": "markdown",
   "metadata": {},
   "source": [
    "We can include special characters in strings. For example `\\n` gives a newline, `\\t` a tab, etc. Notice that the multiple line string above (`s3`) is converted to a single quote string with the newlines 'escaped' out with `\\n`."
   ]
  },
  {
   "cell_type": "code",
   "execution_count": 14,
   "metadata": {
    "collapsed": false
   },
   "outputs": [
    {
     "data": {
      "text/plain": [
       "'Strings can \\nalso go over\\nmultiple lines.'"
      ]
     },
     "execution_count": 14,
     "metadata": {},
     "output_type": "execute_result"
    }
   ],
   "source": [
    "s3"
   ]
  },
  {
   "cell_type": "markdown",
   "metadata": {},
   "source": [
    "Strings are 'objects' in that they have 'methods'. Methods are functions that act on the particular instance of a string object. You can access the methods by putting a dot after the variable name and then the method name with parentheses (and any arguments to the method within the parentheses). Methods always have to have parentheses, even if they are empty."
   ]
  },
  {
   "cell_type": "code",
   "execution_count": 15,
   "metadata": {
    "collapsed": false
   },
   "outputs": [
    {
     "data": {
      "text/plain": [
       "'Strings can \\nalso go over\\nmultiple lines.'"
      ]
     },
     "execution_count": 15,
     "metadata": {},
     "output_type": "execute_result"
    }
   ],
   "source": [
    "s3.capitalize()"
   ]
  },
  {
   "cell_type": "markdown",
   "metadata": {},
   "source": [
    "One of the most useful string methods is 'split' that returns a list of the words in a string, with all of the whitespace (actual spaces, newlines, and tabs) removed. More on lists next."
   ]
  },
  {
   "cell_type": "code",
   "execution_count": 16,
   "metadata": {
    "collapsed": false
   },
   "outputs": [
    {
     "data": {
      "text/plain": [
       "['Strings', 'can', 'also', 'go', 'over', 'multiple', 'lines.']"
      ]
     },
     "execution_count": 16,
     "metadata": {},
     "output_type": "execute_result"
    }
   ],
   "source": [
    "s3.split()"
   ]
  },
  {
   "cell_type": "markdown",
   "metadata": {},
   "source": [
    "Another common thing that is done with strings is the `join` method. It can be used to join a sequence of strings given a common conjunction"
   ]
  },
  {
   "cell_type": "code",
   "execution_count": 17,
   "metadata": {
    "collapsed": false
   },
   "outputs": [
    {
     "data": {
      "text/plain": [
       "'Strings_can_also_go_over_multiple_lines.'"
      ]
     },
     "execution_count": 17,
     "metadata": {},
     "output_type": "execute_result"
    }
   ],
   "source": [
    "words = s3.split()\n",
    "'_'.join(words)        # Here, we are using a method directly on the string '_' itself."
   ]
  },
  {
   "cell_type": "markdown",
   "metadata": {},
   "source": [
    "# D. Containers\n",
    "\n",
    "Often you need lists or sequences of different values (e.g., a timeseries of temperature – a list of values representing the temperature on sequential days). There are three containers in the core python language. There are a few more specialized containers (e.g., numpy arrays and pandas dataframes) for use in scientific computing that we will learn much more about later; they are very similar to the containers we will learn about here."
   ]
  },
  {
   "cell_type": "markdown",
   "metadata": {},
   "source": [
    "## Lists\n",
    "\n",
    "Lists are perhaps the most common container type. They are used for sequential data. Create them with square brackets with comma separated values within:"
   ]
  },
  {
   "cell_type": "code",
   "execution_count": 18,
   "metadata": {
    "collapsed": false
   },
   "outputs": [
    {
     "data": {
      "text/plain": [
       "list"
      ]
     },
     "execution_count": 18,
     "metadata": {},
     "output_type": "execute_result"
    }
   ],
   "source": [
    "foo = [1., 2., 3, 'four', 'five', [6., 7., 8], 'nine']\n",
    "type(foo)"
   ]
  },
  {
   "cell_type": "markdown",
   "metadata": {},
   "source": [
    "Note that lists (unlike arrays, as we will later learn) can be heterogeneous. That is, the elements in the list don't have to have the same kind of data type. Here we have a list with floats, ints, strings, and even another (nested) list!\n",
    "\n",
    "We can retrieve the individual elements of a list by 'indexing' the list. We do this with square brackets, using zero-based indexes – that is `0` is the first element – as such:"
   ]
  },
  {
   "cell_type": "code",
   "execution_count": 19,
   "metadata": {
    "collapsed": false
   },
   "outputs": [
    {
     "data": {
      "text/plain": [
       "1.0"
      ]
     },
     "execution_count": 19,
     "metadata": {},
     "output_type": "execute_result"
    }
   ],
   "source": [
    "foo[0]"
   ]
  },
  {
   "cell_type": "code",
   "execution_count": 20,
   "metadata": {
    "collapsed": false
   },
   "outputs": [
    {
     "data": {
      "text/plain": [
       "[6.0, 7.0, 8]"
      ]
     },
     "execution_count": 20,
     "metadata": {},
     "output_type": "execute_result"
    }
   ],
   "source": [
    "foo[5]"
   ]
  },
  {
   "cell_type": "code",
   "execution_count": 21,
   "metadata": {
    "collapsed": false
   },
   "outputs": [
    {
     "data": {
      "text/plain": [
       "7.0"
      ]
     },
     "execution_count": 21,
     "metadata": {},
     "output_type": "execute_result"
    }
   ],
   "source": [
    "foo[5][1]  # Python is sequential, we can access an element within an element using sequential indexing."
   ]
  },
  {
   "cell_type": "code",
   "execution_count": 22,
   "metadata": {
    "collapsed": false
   },
   "outputs": [
    {
     "data": {
      "text/plain": [
       "'nine'"
      ]
     },
     "execution_count": 22,
     "metadata": {},
     "output_type": "execute_result"
    }
   ],
   "source": [
    "foo[-1]    # This is the way to access the last element."
   ]
  },
  {
   "cell_type": "code",
   "execution_count": 23,
   "metadata": {
    "collapsed": false
   },
   "outputs": [
    {
     "data": {
      "text/plain": [
       "'five'"
      ]
     },
     "execution_count": 23,
     "metadata": {},
     "output_type": "execute_result"
    }
   ],
   "source": [
    "foo[-3]    # ...and the third to last element"
   ]
  },
  {
   "cell_type": "code",
   "execution_count": 24,
   "metadata": {
    "collapsed": false
   },
   "outputs": [
    {
     "data": {
      "text/plain": [
       "'v'"
      ]
     },
     "execution_count": 24,
     "metadata": {},
     "output_type": "execute_result"
    }
   ],
   "source": [
    "foo[-3][2]   # we can also index strings."
   ]
  },
  {
   "cell_type": "markdown",
   "metadata": {},
   "source": [
    "We can get a sub-sequence from the list by giving a range of the data to extract. This is done by using the format\n",
    "\n",
    "    start:stop:stride\n",
    "\n",
    "where `start` is the first element, up to but not including the element indexed by `stop`, taking every `stride` elements. The defaluts are start at the begining, include through the end, and include every element. \n",
    "\n",
    "The up-to-but-not-including part is confusing to first time Python users, but makes sense given the zero-based indexing. For example, `foo[:10]` gives the first ten elements of a sequence."
   ]
  },
  {
   "cell_type": "code",
   "execution_count": 25,
   "metadata": {
    "collapsed": false
   },
   "outputs": [],
   "source": [
    "# create a sequence of 10 elements, starting with zero, up to but not including 10.\n",
    "bar = [0, 1, 2, 3, 4, 5, 6, 7, 8, 9]"
   ]
  },
  {
   "cell_type": "code",
   "execution_count": 26,
   "metadata": {
    "collapsed": false
   },
   "outputs": [
    {
     "data": {
      "text/plain": [
       "[2, 3, 4]"
      ]
     },
     "execution_count": 26,
     "metadata": {},
     "output_type": "execute_result"
    }
   ],
   "source": [
    "bar[2:5]"
   ]
  },
  {
   "cell_type": "code",
   "execution_count": 27,
   "metadata": {
    "collapsed": false
   },
   "outputs": [
    {
     "data": {
      "text/plain": [
       "[0, 1, 2, 3]"
      ]
     },
     "execution_count": 27,
     "metadata": {},
     "output_type": "execute_result"
    }
   ],
   "source": [
    "bar[:4]"
   ]
  },
  {
   "cell_type": "code",
   "execution_count": 28,
   "metadata": {
    "collapsed": false
   },
   "outputs": [
    {
     "data": {
      "text/plain": [
       "[4, 5, 6, 7, 8, 9]"
      ]
     },
     "execution_count": 28,
     "metadata": {},
     "output_type": "execute_result"
    }
   ],
   "source": [
    "bar[4:]"
   ]
  },
  {
   "cell_type": "code",
   "execution_count": 29,
   "metadata": {
    "collapsed": false
   },
   "outputs": [
    {
     "data": {
      "text/plain": [
       "[0, 2, 4, 6, 8]"
      ]
     },
     "execution_count": 29,
     "metadata": {},
     "output_type": "execute_result"
    }
   ],
   "source": [
    "bar[::2]"
   ]
  },
  {
   "cell_type": "markdown",
   "metadata": {},
   "source": [
    "---\n",
    "###  *Exercise*\n",
    "\n",
    "> Use the list\n",
    "\n",
    "    bar = [0, 1, 2, 3, 4, 5, 6, 7, 8, 9]\n",
    "    \n",
    "> use indexing to get the following sequences:\n",
    "    \n",
    "    \n",
    "    [3, 4, 5]\n",
    "    \n",
    "    [9]        # note this is differet than just the last element. \n",
    "               # It is a sequence with only one element, but still a sequence\n",
    "    \n",
    "    [2, 5, 8]\n",
    "\n",
    "> What happens when you exceed the limits of the list?\n",
    "\n",
    "    bar[99]\n",
    "    bar[-99]\n",
    "    bar[5:99]\n",
    "\n",
    "---"
   ]
  },
  {
   "cell_type": "code",
   "execution_count": null,
   "metadata": {
    "collapsed": true
   },
   "outputs": [],
   "source": []
  },
  {
   "cell_type": "markdown",
   "metadata": {},
   "source": [
    "You can assign values to list elements by puting the indexed list on the right side of the assignment, as"
   ]
  },
  {
   "cell_type": "code",
   "execution_count": 30,
   "metadata": {
    "collapsed": false
   },
   "outputs": [
    {
     "data": {
      "text/plain": [
       "[0, 1, 2, 3, 4, -99, 6, 7, 8, 9]"
      ]
     },
     "execution_count": 30,
     "metadata": {},
     "output_type": "execute_result"
    }
   ],
   "source": [
    "bar[5] = -99\n",
    "bar"
   ]
  },
  {
   "cell_type": "markdown",
   "metadata": {},
   "source": [
    "This works for sequences as well,"
   ]
  },
  {
   "cell_type": "code",
   "execution_count": 31,
   "metadata": {
    "collapsed": false
   },
   "outputs": [
    {
     "data": {
      "text/plain": [
       "[0, 1, 1, 1, 1, 1, 1, 7, 8, 9]"
      ]
     },
     "execution_count": 31,
     "metadata": {},
     "output_type": "execute_result"
    }
   ],
   "source": [
    "bar[2:7] = [1, 1, 1, 1, 1]\n",
    "bar"
   ]
  },
  {
   "cell_type": "markdown",
   "metadata": {},
   "source": [
    "Lists are also 'objects'; they also have 'methods'. Methods are functions that are designed to be applied to the data contained in the list. You can access them by putting a dot and the method name after the variable (called an 'object instance')"
   ]
  },
  {
   "cell_type": "code",
   "execution_count": 32,
   "metadata": {
    "collapsed": true
   },
   "outputs": [],
   "source": [
    "bar.sort()    # Note that we don't do 'bar = bar.sort()'. The sorting is done in place."
   ]
  },
  {
   "cell_type": "markdown",
   "metadata": {},
   "source": [
    "---\n",
    "### *Exercise*\n",
    "\n",
    "> What other methods are there? In iPython or a jupyter window, type `bar.` and then `<TAB>`. This will show the possible complitions, which in this case is a list of the methods and attributes. You can get help on a method by typing, for example, `bar.pop?`.  The text in the help file is called a `docstring`; as we will see below, you can write these for your own funcions.\n",
    "\n",
    "> See if you can use these four methods of the list instance `bar`:\n",
    "\n",
    "            1. append\n",
    "            2. pop\n",
    "            3. index\n",
    "            4. count\n",
    "\n",
    "\n",
    "---"
   ]
  },
  {
   "cell_type": "code",
   "execution_count": null,
   "metadata": {
    "collapsed": true
   },
   "outputs": [],
   "source": []
  },
  {
   "cell_type": "markdown",
   "metadata": {},
   "source": [
    "## Tuples\n",
    "\n",
    "Tuples (pronounced `too'-puls`) are sequences that can't be modified, and don't have methods. Thus, they are designed to be imutable sequences. They are created like lists, but with paretheses instead of square brackets."
   ]
  },
  {
   "cell_type": "code",
   "execution_count": 33,
   "metadata": {
    "collapsed": false
   },
   "outputs": [],
   "source": [
    "foo = (3, 5, 7, 9)\n",
    "# foo[2] = -999  # gives an assignment error. Commented so that all cells run."
   ]
  },
  {
   "cell_type": "markdown",
   "metadata": {},
   "source": [
    "Tuples are often used when a function has multiple outputs, or as a lightweight storage container. Becuase of this, you don't need to put the parenthases around them, and can assign multiple values at a time."
   ]
  },
  {
   "cell_type": "code",
   "execution_count": 34,
   "metadata": {
    "collapsed": true
   },
   "outputs": [],
   "source": [
    "a, b, c = 1, 2, 3   # Equivalent to '(a, b, c) = (1, 2, 3)'"
   ]
  },
  {
   "cell_type": "markdown",
   "metadata": {},
   "source": [
    "## Dictionaries\n",
    "\n",
    "Dictionaries are used for unordered sequences that are referenced by arbitrary 'keys' instead of by a (sequential) index. Dictionaries are created using curly braces with keys and values separated by a colon, and key:value pairs separated by comas, as"
   ]
  },
  {
   "cell_type": "code",
   "execution_count": 35,
   "metadata": {
    "collapsed": true
   },
   "outputs": [],
   "source": [
    "foobar = {'a':3, 'b':4, 'c':5}"
   ]
  },
  {
   "cell_type": "markdown",
   "metadata": {},
   "source": [
    "Elements are referenced and assigned by keys:"
   ]
  },
  {
   "cell_type": "code",
   "execution_count": 36,
   "metadata": {
    "collapsed": false
   },
   "outputs": [
    {
     "data": {
      "text/plain": [
       "3"
      ]
     },
     "execution_count": 36,
     "metadata": {},
     "output_type": "execute_result"
    }
   ],
   "source": [
    "foobar['a']"
   ]
  },
  {
   "cell_type": "code",
   "execution_count": 37,
   "metadata": {
    "collapsed": false
   },
   "outputs": [
    {
     "data": {
      "text/plain": [
       "{'a': 3, 'b': 4, 'c': -99}"
      ]
     },
     "execution_count": 37,
     "metadata": {},
     "output_type": "execute_result"
    }
   ],
   "source": [
    "foobar['c'] = -99\n",
    "foobar"
   ]
  },
  {
   "cell_type": "markdown",
   "metadata": {},
   "source": [
    "The keys and values can be extracted as lists using methods of the dictionary class."
   ]
  },
  {
   "cell_type": "code",
   "execution_count": 38,
   "metadata": {
    "collapsed": false
   },
   "outputs": [
    {
     "data": {
      "text/plain": [
       "dict_keys(['b', 'c', 'a'])"
      ]
     },
     "execution_count": 38,
     "metadata": {},
     "output_type": "execute_result"
    }
   ],
   "source": [
    "foobar.keys()"
   ]
  },
  {
   "cell_type": "code",
   "execution_count": 39,
   "metadata": {
    "collapsed": false
   },
   "outputs": [
    {
     "data": {
      "text/plain": [
       "dict_values([4, -99, 3])"
      ]
     },
     "execution_count": 39,
     "metadata": {},
     "output_type": "execute_result"
    }
   ],
   "source": [
    "foobar.values()"
   ]
  },
  {
   "cell_type": "markdown",
   "metadata": {},
   "source": [
    "New values can be assigned simply by assigning a value to a key that does not exist yet"
   ]
  },
  {
   "cell_type": "code",
   "execution_count": 40,
   "metadata": {
    "collapsed": false
   },
   "outputs": [
    {
     "data": {
      "text/plain": [
       "{'a': 3, 'b': 4, 'c': -99, 'spam': 'eggs'}"
      ]
     },
     "execution_count": 40,
     "metadata": {},
     "output_type": "execute_result"
    }
   ],
   "source": [
    "foobar['spam'] = 'eggs'\n",
    "foobar"
   ]
  },
  {
   "cell_type": "markdown",
   "metadata": {},
   "source": [
    "---\n",
    "### *Exercise*\n",
    "\n",
    "> Use a dictioary to create a list-like object that has negative indices, with the indices ranging from -3 to 3 (with arbitrary floating point values)\n",
    "\n",
    "> Explore the methods of the dictionary object, as was done with the list instance in the previous exercise.\n",
    "\n",
    "\n",
    "---"
   ]
  },
  {
   "cell_type": "code",
   "execution_count": null,
   "metadata": {
    "collapsed": true
   },
   "outputs": [],
   "source": []
  },
  {
   "cell_type": "markdown",
   "metadata": {},
   "source": [
    "You can make an empty dictionary or list by using the `dict` and `list` functions respectively."
   ]
  },
  {
   "cell_type": "markdown",
   "metadata": {},
   "source": [
    "# E. Loops\n",
    "\n",
    "### For loops\n",
    "\n",
    "Loops are one of the fundamental structures in programing. Loops allow you to iterate over each element in a sequence, one at a time, and do something with those elements.\n",
    "\n",
    "*Loop syntax*: Loops have a very particular syntax in Python; this syntax is one of the most notable features to Python newcommers. The format looks like\n",
    "\n",
    "    for *element* in *sequence*:                # NOTE the colon at the end\n",
    "        <some code that uses the *element*>     # the block of code that is looped over for each element\n",
    "        <more code that uses the *element*>     # is indented four spaces (yes four! yes spaces!)\n",
    "    \n",
    "    <the code after the loop continues>         # the end of the loop is marked simply by unindented code\n",
    "    \n",
    "Thus, indentation is significant to the code. This was done because good coding practice (in almost all languages, C, FORTRAN, MATLAB) typically indents loops, functions, etc. Having indentation be significant saves the end of loop syntax for more compact code.\n",
    "\n",
    "*Some important notes on indentation*  Indentation in python is typically *4 spaces*. Most programming text editors will be smart about indentation, and will also convert TABs to four spaces. Jupyter notebooks are smart about indentation, and will do the right thing, i.e., autoindent a line below a line with a trailing colon, and convert TABs to spaces. If you are in another editor remember: ___TABS AND SPACES DO NOT MIX___. See [PEP-8](https://www.python.org/dev/peps/pep-0008/) for more information on the correct formatting of Python code.\n",
    "\n",
    "A simple example is to find the sum of the squares of the sequence 0 through 99,"
   ]
  },
  {
   "cell_type": "code",
   "execution_count": 41,
   "metadata": {
    "collapsed": false
   },
   "outputs": [
    {
     "name": "stdout",
     "output_type": "stream",
     "text": [
      "328350\n"
     ]
    }
   ],
   "source": [
    "sum_of_squares = 0\n",
    "for n in range(100):              # range yields a sequence of numbers from 0 up to but not including 100\n",
    "    sum_of_squares += n**2        # the '+=' operator is equivalent to 'sum = sum + n**2', \n",
    "                                  # the '**' operator is a power, like '^' in other languages\n",
    "\n",
    "print(sum_of_squares)"
   ]
  },
  {
   "cell_type": "markdown",
   "metadata": {},
   "source": [
    "You can iterate over any sequence, and in Python (like MATLAB) it is better to iterate over the sequence you want than to loop over the indices of that sequence."
   ]
  },
  {
   "cell_type": "code",
   "execution_count": 42,
   "metadata": {
    "collapsed": false
   },
   "outputs": [
    {
     "data": {
      "text/plain": [
       "'the quick brown fox jumped over the lazy dog '"
      ]
     },
     "execution_count": 42,
     "metadata": {},
     "output_type": "execute_result"
    }
   ],
   "source": [
    "words = ['the', 'quick', 'brown', 'fox', 'jumped', 'over', 'the', 'lazy', 'dog']\n",
    "\n",
    "sentence = ''\n",
    "for word in words:\n",
    "    sentence += word + ' '\n",
    "\n",
    "sentence"
   ]
  },
  {
   "cell_type": "markdown",
   "metadata": {},
   "source": [
    "Though sometimes you want to iterate over a sequence but you *also* want the indices of those elements. One way to do that is the `enumarate` function:\n",
    "\n",
    "    enumerate(<sequence>)\n",
    "\n",
    "This returns a sequence of two element tuples, the first element in each tuple is the index, the second the element. It is commonly used in `for` loops, like"
   ]
  },
  {
   "cell_type": "code",
   "execution_count": 43,
   "metadata": {
    "collapsed": false
   },
   "outputs": [
    {
     "name": "stdout",
     "output_type": "stream",
     "text": [
      "The index is 0 ...\n",
      "...and the word is the\n",
      "The index is 1 ...\n",
      "...and the word is quick\n",
      "The index is 2 ...\n",
      "...and the word is brown\n",
      "The index is 3 ...\n",
      "...and the word is fox\n",
      "The index is 4 ...\n",
      "...and the word is jumped\n",
      "The index is 5 ...\n",
      "...and the word is over\n",
      "The index is 6 ...\n",
      "...and the word is the\n",
      "The index is 7 ...\n",
      "...and the word is lazy\n",
      "The index is 8 ...\n",
      "...and the word is dog\n"
     ]
    }
   ],
   "source": [
    "for idx, word in enumerate(words):\n",
    "    print('The index is', idx, '...')\n",
    "    print('...and the word is', word)"
   ]
  },
  {
   "cell_type": "markdown",
   "metadata": {},
   "source": [
    "## F. Conditionals\n",
    "\n",
    "Conditionals have a similar syntax to for statements. Generally, conditionals look like\n",
    "\n",
    "    if <test>:\n",
    "        <Code run if...>\n",
    "        <...test is valad>\n",
    "\n",
    "or\n",
    "\n",
    "    if <first test>:\n",
    "        <Code run if...>\n",
    "        <...the first test is valad>\n",
    "    elif <second test>:\n",
    "        <Code run if...>\n",
    "        <...the second test is valad>\n",
    "    else:\n",
    "        <Code run if...>\n",
    "        <...neither test is valad>\n",
    "\n",
    "In both cases the test statements are code segments that return a boolean value, often a test for equality or inequality. The `elif` and `else` statements are always optional; both, either, or none can be included."
   ]
  },
  {
   "cell_type": "code",
   "execution_count": 44,
   "metadata": {
    "collapsed": false
   },
   "outputs": [
    {
     "name": "stdout",
     "output_type": "stream",
     "text": [
      "x is not bigger than 10\n",
      "x is less than 10\n"
     ]
    }
   ],
   "source": [
    "x = 5\n",
    "\n",
    "if x < 10:\n",
    "    print('x is not bigger than 10')\n",
    "\n",
    "    \n",
    "if x < 10:\n",
    "    print('x is less than 10')\n",
    "else:\n",
    "    print('x is more than 10')"
   ]
  },
  {
   "cell_type": "markdown",
   "metadata": {},
   "source": [
    "---\n",
    "### *Exercise*\n",
    "\n",
    "> Rerun the code block above using different values for x. What happens if x=10?\n",
    "\n",
    "> Add an `elif` statement to the second block of code that will print something if x==10.\n",
    "\n",
    "---"
   ]
  },
  {
   "cell_type": "code",
   "execution_count": null,
   "metadata": {
    "collapsed": true
   },
   "outputs": [],
   "source": []
  },
  {
   "cell_type": "markdown",
   "metadata": {
    "collapsed": true
   },
   "source": [
    "# G. Functions\n",
    "\n",
    "Functions are ways to create reusable blocks of code that can be run with different variable values – the input variables to the function. Functions are defined using the syntax\n",
    "\n",
    "    def <function name> (var1, var2, ...):\n",
    "        <block of code...>\n",
    "        <...defining the function>\n",
    "        return <return variable(s)>\n",
    "\n",
    "Functions can be defined at any point in the code, and called at any subsequent point."
   ]
  },
  {
   "cell_type": "code",
   "execution_count": 45,
   "metadata": {
    "collapsed": false
   },
   "outputs": [
    {
     "data": {
      "text/plain": [
       "8.1415"
      ]
     },
     "execution_count": 45,
     "metadata": {},
     "output_type": "execute_result"
    }
   ],
   "source": [
    "def addfive(x):\n",
    "    return x+5\n",
    "\n",
    "addfive(3.1415)"
   ]
  },
  {
   "cell_type": "markdown",
   "metadata": {},
   "source": [
    "## Function inputs and outputs\n",
    "\n",
    "Functions can have multiple input and output values. The documentation for the function can (and should) be provided as a string at the begining of the function."
   ]
  },
  {
   "cell_type": "code",
   "execution_count": 46,
   "metadata": {
    "collapsed": false
   },
   "outputs": [
    {
     "data": {
      "text/plain": [
       "(12, 50)"
      ]
     },
     "execution_count": 46,
     "metadata": {},
     "output_type": "execute_result"
    }
   ],
   "source": [
    "def sasos(a, b, c):\n",
    "    '''return the sum of a, b, and c and the sum of the squares of a, b, and c'''\n",
    "    res1 = a + b + c\n",
    "    res2 = a**2 + b**2 + c**2\n",
    "    return res1, res2\n",
    "\n",
    "sasos(3, 4, 5)"
   ]
  },
  {
   "cell_type": "markdown",
   "metadata": {},
   "source": [
    "Functions can have variables with default values. You can also specify positional variables out of order if they are labeled explicitly."
   ]
  },
  {
   "cell_type": "code",
   "execution_count": 47,
   "metadata": {
    "collapsed": false
   },
   "outputs": [
    {
     "name": "stdout",
     "output_type": "stream",
     "text": [
      "75.0\n",
      "309.0\n",
      "23.0\n"
     ]
    }
   ],
   "source": [
    "def powsum(x, y, z, a=1, b=2, c=3):\n",
    "    return x**a + y**b + z**c\n",
    "\n",
    "print( powsum(2., 3., 4.) )\n",
    "print( powsum(2., 3., 4., b=5) )\n",
    "print( powsum(z=2., x=3., y=4., c=2) )"
   ]
  },
  {
   "cell_type": "markdown",
   "metadata": {},
   "source": [
    "---\n",
    "### *Exercise*\n",
    "\n",
    "> Verify `powsum(z=2., x=3., y=4., c=2)` is the same as `powsum(3., 4., 2., c=2)`\n",
    "\n",
    "> What happens when you do `powsum(3., 4., 2., x=2)`?  Why?\n",
    "\n",
    "\n",
    "---"
   ]
  },
  {
   "cell_type": "code",
   "execution_count": null,
   "metadata": {
    "collapsed": true
   },
   "outputs": [],
   "source": []
  },
  {
   "cell_type": "markdown",
   "metadata": {},
   "source": [
    "# I. Packages\n",
    "\n",
    "Functions and classes represnet code that is intended to be reused over and over. Packages are a way to store and manage this code. Python has a number of 'built-in' classes and functions that we have discussed above. List, tuples and dictionaries; `for` and `while` loops; and standard data types are part of every python session.\n",
    "\n",
    "There is also a very wide range of packages that you can import that extend the abilities core Python. There are packages that deal with file input and output, internet communication, numerical processing, etc. One of the nice features about Python is that you only import the packages you need, so that the memory footprint of your code remains lean. Also, there are ways to import code that keep your 'namespace' organized.\n",
    "\n",
    "> Namespaces are one honking great idea -- let's do more of those!\n",
    "\n",
    "In the same way directories keep your files organized on your computer, namespaces organize your Python environment. There are a number of ways to import packages, for example."
   ]
  },
  {
   "cell_type": "code",
   "execution_count": 48,
   "metadata": {
    "collapsed": false
   },
   "outputs": [],
   "source": [
    "import math     # This imports the math function. Here 'math' is like a subdirectory \n",
    "                # in your namespace that holds all of the math functions"
   ]
  },
  {
   "cell_type": "markdown",
   "metadata": {},
   "source": [
    "---\n",
    "### *Exercise*\n",
    "\n",
    "> After importing the math package, type `math.` and hit <TAB> to see all the possible completions. These are the functions available in the math package. Use the math package to calculate the square root of 2.\n",
    "\n",
    "> There are a number of other ways to import things from the math package. Experiment with these commands\n",
    "\n",
    "    from math import tanh  # Import just the `tanh` function. Called as `tanh(x)`\n",
    "    import math.sin        # Import just the `sin` function. Calls as `math.sin(x)`\n",
    "    import math as m       # Import the math package, but rename it to `m`. Functions called like `m.sin(x)`\n",
    "    from math import *     # All the functions imported to top level namespace. Functions called like `sin(x)`\n",
    "    \n",
    "> This last example makes things easier to use, but is frowned on as it is less clear where different functions come from.\n",
    "\n",
    "> For the rest of the 'Zen of Python' type `import this`\n",
    "\n",
    "---"
   ]
  },
  {
   "cell_type": "markdown",
   "metadata": {},
   "source": [
    "One particular package that is central to scientific Python is the `numpy` package (*Num*erical *Py*thon). We will talk about this package much more in the future, but will outline a few things about the package now. The standard way to import this package is"
   ]
  },
  {
   "cell_type": "code",
   "execution_count": 49,
   "metadata": {
    "collapsed": true
   },
   "outputs": [],
   "source": [
    "import numpy as np"
   ]
  },
  {
   "cell_type": "markdown",
   "metadata": {},
   "source": [
    "The `numpy` package has the same math functions as the `math` package, but these functions are designed to work with numpy arrays. Arrays are the backbone of the `numpy` package. For now, just think of them as homogeneous, multidimensional lists."
   ]
  },
  {
   "cell_type": "code",
   "execution_count": 50,
   "metadata": {
    "collapsed": false
   },
   "outputs": [
    {
     "data": {
      "text/plain": [
       "array([[ 1.,  2.,  3.],\n",
       "       [ 4.,  5.,  6.]])"
      ]
     },
     "execution_count": 50,
     "metadata": {},
     "output_type": "execute_result"
    }
   ],
   "source": [
    "a = np.array([[1., 2., 3], [4., 5., 6.]])\n",
    "a"
   ]
  },
  {
   "cell_type": "code",
   "execution_count": 51,
   "metadata": {
    "collapsed": false
   },
   "outputs": [
    {
     "data": {
      "text/plain": [
       "array([[ 0.84147098,  0.90929743,  0.14112001],\n",
       "       [-0.7568025 , -0.95892427, -0.2794155 ]])"
      ]
     },
     "execution_count": 51,
     "metadata": {},
     "output_type": "execute_result"
    }
   ],
   "source": [
    "np.sin(a)"
   ]
  },
  {
   "cell_type": "markdown",
   "metadata": {},
   "source": [
    "Note that we can have two `sin` functions at the same time, one from the `math` package and one from the `numpy` package. This is one of the advantages of namespaces."
   ]
  },
  {
   "cell_type": "code",
   "execution_count": 52,
   "metadata": {
    "collapsed": false
   },
   "outputs": [
    {
     "data": {
      "text/plain": [
       "True"
      ]
     },
     "execution_count": 52,
     "metadata": {},
     "output_type": "execute_result"
    }
   ],
   "source": [
    "math.sin(2.0) == np.sin(2.0)"
   ]
  },
  {
   "cell_type": "markdown",
   "metadata": {},
   "source": [
    "One commonly used package is the `datetime` package. We can pull out the two functions we would like to use, `datetime.datetime` and `datetime.timedelta` by the command"
   ]
  },
  {
   "cell_type": "code",
   "execution_count": 53,
   "metadata": {
    "collapsed": true
   },
   "outputs": [],
   "source": [
    "from datetime import datetime, timedelta"
   ]
  },
  {
   "cell_type": "markdown",
   "metadata": {},
   "source": [
    "Here is an example of creating a sequence of datetime objects using a list comprehension"
   ]
  },
  {
   "cell_type": "code",
   "execution_count": 54,
   "metadata": {
    "collapsed": false
   },
   "outputs": [
    {
     "data": {
      "text/plain": [
       "[datetime.datetime(1970, 1, 1, 0, 0),\n",
       " datetime.datetime(1970, 1, 1, 3, 0),\n",
       " datetime.datetime(1970, 1, 1, 6, 0),\n",
       " datetime.datetime(1970, 1, 1, 9, 0),\n",
       " datetime.datetime(1970, 1, 1, 12, 0),\n",
       " datetime.datetime(1970, 1, 1, 15, 0),\n",
       " datetime.datetime(1970, 1, 1, 18, 0),\n",
       " datetime.datetime(1970, 1, 1, 21, 0),\n",
       " datetime.datetime(1970, 1, 2, 0, 0),\n",
       " datetime.datetime(1970, 1, 2, 3, 0),\n",
       " datetime.datetime(1970, 1, 2, 6, 0),\n",
       " datetime.datetime(1970, 1, 2, 9, 0),\n",
       " datetime.datetime(1970, 1, 2, 12, 0),\n",
       " datetime.datetime(1970, 1, 2, 15, 0),\n",
       " datetime.datetime(1970, 1, 2, 18, 0),\n",
       " datetime.datetime(1970, 1, 2, 21, 0),\n",
       " datetime.datetime(1970, 1, 3, 0, 0),\n",
       " datetime.datetime(1970, 1, 3, 3, 0),\n",
       " datetime.datetime(1970, 1, 3, 6, 0),\n",
       " datetime.datetime(1970, 1, 3, 9, 0),\n",
       " datetime.datetime(1970, 1, 3, 12, 0),\n",
       " datetime.datetime(1970, 1, 3, 15, 0),\n",
       " datetime.datetime(1970, 1, 3, 18, 0),\n",
       " datetime.datetime(1970, 1, 3, 21, 0),\n",
       " datetime.datetime(1970, 1, 4, 0, 0),\n",
       " datetime.datetime(1970, 1, 4, 3, 0),\n",
       " datetime.datetime(1970, 1, 4, 6, 0),\n",
       " datetime.datetime(1970, 1, 4, 9, 0),\n",
       " datetime.datetime(1970, 1, 4, 12, 0),\n",
       " datetime.datetime(1970, 1, 4, 15, 0),\n",
       " datetime.datetime(1970, 1, 4, 18, 0),\n",
       " datetime.datetime(1970, 1, 4, 21, 0),\n",
       " datetime.datetime(1970, 1, 5, 0, 0),\n",
       " datetime.datetime(1970, 1, 5, 3, 0),\n",
       " datetime.datetime(1970, 1, 5, 6, 0),\n",
       " datetime.datetime(1970, 1, 5, 9, 0),\n",
       " datetime.datetime(1970, 1, 5, 12, 0),\n",
       " datetime.datetime(1970, 1, 5, 15, 0),\n",
       " datetime.datetime(1970, 1, 5, 18, 0),\n",
       " datetime.datetime(1970, 1, 5, 21, 0),\n",
       " datetime.datetime(1970, 1, 6, 0, 0),\n",
       " datetime.datetime(1970, 1, 6, 3, 0),\n",
       " datetime.datetime(1970, 1, 6, 6, 0),\n",
       " datetime.datetime(1970, 1, 6, 9, 0),\n",
       " datetime.datetime(1970, 1, 6, 12, 0),\n",
       " datetime.datetime(1970, 1, 6, 15, 0),\n",
       " datetime.datetime(1970, 1, 6, 18, 0),\n",
       " datetime.datetime(1970, 1, 6, 21, 0),\n",
       " datetime.datetime(1970, 1, 7, 0, 0),\n",
       " datetime.datetime(1970, 1, 7, 3, 0),\n",
       " datetime.datetime(1970, 1, 7, 6, 0),\n",
       " datetime.datetime(1970, 1, 7, 9, 0),\n",
       " datetime.datetime(1970, 1, 7, 12, 0),\n",
       " datetime.datetime(1970, 1, 7, 15, 0),\n",
       " datetime.datetime(1970, 1, 7, 18, 0),\n",
       " datetime.datetime(1970, 1, 7, 21, 0),\n",
       " datetime.datetime(1970, 1, 8, 0, 0),\n",
       " datetime.datetime(1970, 1, 8, 3, 0),\n",
       " datetime.datetime(1970, 1, 8, 6, 0),\n",
       " datetime.datetime(1970, 1, 8, 9, 0),\n",
       " datetime.datetime(1970, 1, 8, 12, 0),\n",
       " datetime.datetime(1970, 1, 8, 15, 0),\n",
       " datetime.datetime(1970, 1, 8, 18, 0),\n",
       " datetime.datetime(1970, 1, 8, 21, 0),\n",
       " datetime.datetime(1970, 1, 9, 0, 0),\n",
       " datetime.datetime(1970, 1, 9, 3, 0),\n",
       " datetime.datetime(1970, 1, 9, 6, 0),\n",
       " datetime.datetime(1970, 1, 9, 9, 0),\n",
       " datetime.datetime(1970, 1, 9, 12, 0),\n",
       " datetime.datetime(1970, 1, 9, 15, 0),\n",
       " datetime.datetime(1970, 1, 9, 18, 0),\n",
       " datetime.datetime(1970, 1, 9, 21, 0),\n",
       " datetime.datetime(1970, 1, 10, 0, 0),\n",
       " datetime.datetime(1970, 1, 10, 3, 0),\n",
       " datetime.datetime(1970, 1, 10, 6, 0),\n",
       " datetime.datetime(1970, 1, 10, 9, 0),\n",
       " datetime.datetime(1970, 1, 10, 12, 0),\n",
       " datetime.datetime(1970, 1, 10, 15, 0),\n",
       " datetime.datetime(1970, 1, 10, 18, 0),\n",
       " datetime.datetime(1970, 1, 10, 21, 0),\n",
       " datetime.datetime(1970, 1, 11, 0, 0),\n",
       " datetime.datetime(1970, 1, 11, 3, 0),\n",
       " datetime.datetime(1970, 1, 11, 6, 0),\n",
       " datetime.datetime(1970, 1, 11, 9, 0),\n",
       " datetime.datetime(1970, 1, 11, 12, 0),\n",
       " datetime.datetime(1970, 1, 11, 15, 0),\n",
       " datetime.datetime(1970, 1, 11, 18, 0),\n",
       " datetime.datetime(1970, 1, 11, 21, 0),\n",
       " datetime.datetime(1970, 1, 12, 0, 0),\n",
       " datetime.datetime(1970, 1, 12, 3, 0),\n",
       " datetime.datetime(1970, 1, 12, 6, 0),\n",
       " datetime.datetime(1970, 1, 12, 9, 0),\n",
       " datetime.datetime(1970, 1, 12, 12, 0),\n",
       " datetime.datetime(1970, 1, 12, 15, 0),\n",
       " datetime.datetime(1970, 1, 12, 18, 0),\n",
       " datetime.datetime(1970, 1, 12, 21, 0),\n",
       " datetime.datetime(1970, 1, 13, 0, 0),\n",
       " datetime.datetime(1970, 1, 13, 3, 0),\n",
       " datetime.datetime(1970, 1, 13, 6, 0),\n",
       " datetime.datetime(1970, 1, 13, 9, 0),\n",
       " datetime.datetime(1970, 1, 13, 12, 0),\n",
       " datetime.datetime(1970, 1, 13, 15, 0),\n",
       " datetime.datetime(1970, 1, 13, 18, 0),\n",
       " datetime.datetime(1970, 1, 13, 21, 0),\n",
       " datetime.datetime(1970, 1, 14, 0, 0),\n",
       " datetime.datetime(1970, 1, 14, 3, 0),\n",
       " datetime.datetime(1970, 1, 14, 6, 0),\n",
       " datetime.datetime(1970, 1, 14, 9, 0),\n",
       " datetime.datetime(1970, 1, 14, 12, 0),\n",
       " datetime.datetime(1970, 1, 14, 15, 0),\n",
       " datetime.datetime(1970, 1, 14, 18, 0),\n",
       " datetime.datetime(1970, 1, 14, 21, 0),\n",
       " datetime.datetime(1970, 1, 15, 0, 0),\n",
       " datetime.datetime(1970, 1, 15, 3, 0),\n",
       " datetime.datetime(1970, 1, 15, 6, 0),\n",
       " datetime.datetime(1970, 1, 15, 9, 0),\n",
       " datetime.datetime(1970, 1, 15, 12, 0),\n",
       " datetime.datetime(1970, 1, 15, 15, 0),\n",
       " datetime.datetime(1970, 1, 15, 18, 0),\n",
       " datetime.datetime(1970, 1, 15, 21, 0),\n",
       " datetime.datetime(1970, 1, 16, 0, 0),\n",
       " datetime.datetime(1970, 1, 16, 3, 0),\n",
       " datetime.datetime(1970, 1, 16, 6, 0),\n",
       " datetime.datetime(1970, 1, 16, 9, 0),\n",
       " datetime.datetime(1970, 1, 16, 12, 0),\n",
       " datetime.datetime(1970, 1, 16, 15, 0),\n",
       " datetime.datetime(1970, 1, 16, 18, 0),\n",
       " datetime.datetime(1970, 1, 16, 21, 0),\n",
       " datetime.datetime(1970, 1, 17, 0, 0),\n",
       " datetime.datetime(1970, 1, 17, 3, 0),\n",
       " datetime.datetime(1970, 1, 17, 6, 0),\n",
       " datetime.datetime(1970, 1, 17, 9, 0),\n",
       " datetime.datetime(1970, 1, 17, 12, 0),\n",
       " datetime.datetime(1970, 1, 17, 15, 0),\n",
       " datetime.datetime(1970, 1, 17, 18, 0),\n",
       " datetime.datetime(1970, 1, 17, 21, 0),\n",
       " datetime.datetime(1970, 1, 18, 0, 0),\n",
       " datetime.datetime(1970, 1, 18, 3, 0),\n",
       " datetime.datetime(1970, 1, 18, 6, 0),\n",
       " datetime.datetime(1970, 1, 18, 9, 0),\n",
       " datetime.datetime(1970, 1, 18, 12, 0),\n",
       " datetime.datetime(1970, 1, 18, 15, 0),\n",
       " datetime.datetime(1970, 1, 18, 18, 0),\n",
       " datetime.datetime(1970, 1, 18, 21, 0),\n",
       " datetime.datetime(1970, 1, 19, 0, 0),\n",
       " datetime.datetime(1970, 1, 19, 3, 0),\n",
       " datetime.datetime(1970, 1, 19, 6, 0),\n",
       " datetime.datetime(1970, 1, 19, 9, 0),\n",
       " datetime.datetime(1970, 1, 19, 12, 0),\n",
       " datetime.datetime(1970, 1, 19, 15, 0),\n",
       " datetime.datetime(1970, 1, 19, 18, 0),\n",
       " datetime.datetime(1970, 1, 19, 21, 0),\n",
       " datetime.datetime(1970, 1, 20, 0, 0),\n",
       " datetime.datetime(1970, 1, 20, 3, 0),\n",
       " datetime.datetime(1970, 1, 20, 6, 0),\n",
       " datetime.datetime(1970, 1, 20, 9, 0),\n",
       " datetime.datetime(1970, 1, 20, 12, 0),\n",
       " datetime.datetime(1970, 1, 20, 15, 0),\n",
       " datetime.datetime(1970, 1, 20, 18, 0),\n",
       " datetime.datetime(1970, 1, 20, 21, 0),\n",
       " datetime.datetime(1970, 1, 21, 0, 0),\n",
       " datetime.datetime(1970, 1, 21, 3, 0),\n",
       " datetime.datetime(1970, 1, 21, 6, 0),\n",
       " datetime.datetime(1970, 1, 21, 9, 0),\n",
       " datetime.datetime(1970, 1, 21, 12, 0),\n",
       " datetime.datetime(1970, 1, 21, 15, 0),\n",
       " datetime.datetime(1970, 1, 21, 18, 0),\n",
       " datetime.datetime(1970, 1, 21, 21, 0),\n",
       " datetime.datetime(1970, 1, 22, 0, 0),\n",
       " datetime.datetime(1970, 1, 22, 3, 0),\n",
       " datetime.datetime(1970, 1, 22, 6, 0),\n",
       " datetime.datetime(1970, 1, 22, 9, 0),\n",
       " datetime.datetime(1970, 1, 22, 12, 0),\n",
       " datetime.datetime(1970, 1, 22, 15, 0),\n",
       " datetime.datetime(1970, 1, 22, 18, 0),\n",
       " datetime.datetime(1970, 1, 22, 21, 0),\n",
       " datetime.datetime(1970, 1, 23, 0, 0),\n",
       " datetime.datetime(1970, 1, 23, 3, 0),\n",
       " datetime.datetime(1970, 1, 23, 6, 0),\n",
       " datetime.datetime(1970, 1, 23, 9, 0),\n",
       " datetime.datetime(1970, 1, 23, 12, 0),\n",
       " datetime.datetime(1970, 1, 23, 15, 0),\n",
       " datetime.datetime(1970, 1, 23, 18, 0),\n",
       " datetime.datetime(1970, 1, 23, 21, 0),\n",
       " datetime.datetime(1970, 1, 24, 0, 0),\n",
       " datetime.datetime(1970, 1, 24, 3, 0),\n",
       " datetime.datetime(1970, 1, 24, 6, 0),\n",
       " datetime.datetime(1970, 1, 24, 9, 0),\n",
       " datetime.datetime(1970, 1, 24, 12, 0),\n",
       " datetime.datetime(1970, 1, 24, 15, 0),\n",
       " datetime.datetime(1970, 1, 24, 18, 0),\n",
       " datetime.datetime(1970, 1, 24, 21, 0),\n",
       " datetime.datetime(1970, 1, 25, 0, 0),\n",
       " datetime.datetime(1970, 1, 25, 3, 0),\n",
       " datetime.datetime(1970, 1, 25, 6, 0),\n",
       " datetime.datetime(1970, 1, 25, 9, 0),\n",
       " datetime.datetime(1970, 1, 25, 12, 0),\n",
       " datetime.datetime(1970, 1, 25, 15, 0),\n",
       " datetime.datetime(1970, 1, 25, 18, 0),\n",
       " datetime.datetime(1970, 1, 25, 21, 0),\n",
       " datetime.datetime(1970, 1, 26, 0, 0),\n",
       " datetime.datetime(1970, 1, 26, 3, 0),\n",
       " datetime.datetime(1970, 1, 26, 6, 0),\n",
       " datetime.datetime(1970, 1, 26, 9, 0),\n",
       " datetime.datetime(1970, 1, 26, 12, 0),\n",
       " datetime.datetime(1970, 1, 26, 15, 0),\n",
       " datetime.datetime(1970, 1, 26, 18, 0),\n",
       " datetime.datetime(1970, 1, 26, 21, 0),\n",
       " datetime.datetime(1970, 1, 27, 0, 0),\n",
       " datetime.datetime(1970, 1, 27, 3, 0),\n",
       " datetime.datetime(1970, 1, 27, 6, 0),\n",
       " datetime.datetime(1970, 1, 27, 9, 0),\n",
       " datetime.datetime(1970, 1, 27, 12, 0),\n",
       " datetime.datetime(1970, 1, 27, 15, 0),\n",
       " datetime.datetime(1970, 1, 27, 18, 0),\n",
       " datetime.datetime(1970, 1, 27, 21, 0),\n",
       " datetime.datetime(1970, 1, 28, 0, 0),\n",
       " datetime.datetime(1970, 1, 28, 3, 0),\n",
       " datetime.datetime(1970, 1, 28, 6, 0),\n",
       " datetime.datetime(1970, 1, 28, 9, 0),\n",
       " datetime.datetime(1970, 1, 28, 12, 0),\n",
       " datetime.datetime(1970, 1, 28, 15, 0),\n",
       " datetime.datetime(1970, 1, 28, 18, 0),\n",
       " datetime.datetime(1970, 1, 28, 21, 0),\n",
       " datetime.datetime(1970, 1, 29, 0, 0),\n",
       " datetime.datetime(1970, 1, 29, 3, 0),\n",
       " datetime.datetime(1970, 1, 29, 6, 0),\n",
       " datetime.datetime(1970, 1, 29, 9, 0),\n",
       " datetime.datetime(1970, 1, 29, 12, 0),\n",
       " datetime.datetime(1970, 1, 29, 15, 0),\n",
       " datetime.datetime(1970, 1, 29, 18, 0),\n",
       " datetime.datetime(1970, 1, 29, 21, 0),\n",
       " datetime.datetime(1970, 1, 30, 0, 0),\n",
       " datetime.datetime(1970, 1, 30, 3, 0),\n",
       " datetime.datetime(1970, 1, 30, 6, 0),\n",
       " datetime.datetime(1970, 1, 30, 9, 0),\n",
       " datetime.datetime(1970, 1, 30, 12, 0),\n",
       " datetime.datetime(1970, 1, 30, 15, 0),\n",
       " datetime.datetime(1970, 1, 30, 18, 0),\n",
       " datetime.datetime(1970, 1, 30, 21, 0),\n",
       " datetime.datetime(1970, 1, 31, 0, 0),\n",
       " datetime.datetime(1970, 1, 31, 3, 0),\n",
       " datetime.datetime(1970, 1, 31, 6, 0),\n",
       " datetime.datetime(1970, 1, 31, 9, 0),\n",
       " datetime.datetime(1970, 1, 31, 12, 0),\n",
       " datetime.datetime(1970, 1, 31, 15, 0),\n",
       " datetime.datetime(1970, 1, 31, 18, 0),\n",
       " datetime.datetime(1970, 1, 31, 21, 0),\n",
       " datetime.datetime(1970, 2, 1, 0, 0),\n",
       " datetime.datetime(1970, 2, 1, 3, 0),\n",
       " datetime.datetime(1970, 2, 1, 6, 0),\n",
       " datetime.datetime(1970, 2, 1, 9, 0),\n",
       " datetime.datetime(1970, 2, 1, 12, 0),\n",
       " datetime.datetime(1970, 2, 1, 15, 0),\n",
       " datetime.datetime(1970, 2, 1, 18, 0),\n",
       " datetime.datetime(1970, 2, 1, 21, 0),\n",
       " datetime.datetime(1970, 2, 2, 0, 0),\n",
       " datetime.datetime(1970, 2, 2, 3, 0),\n",
       " datetime.datetime(1970, 2, 2, 6, 0),\n",
       " datetime.datetime(1970, 2, 2, 9, 0),\n",
       " datetime.datetime(1970, 2, 2, 12, 0),\n",
       " datetime.datetime(1970, 2, 2, 15, 0),\n",
       " datetime.datetime(1970, 2, 2, 18, 0),\n",
       " datetime.datetime(1970, 2, 2, 21, 0),\n",
       " datetime.datetime(1970, 2, 3, 0, 0),\n",
       " datetime.datetime(1970, 2, 3, 3, 0),\n",
       " datetime.datetime(1970, 2, 3, 6, 0),\n",
       " datetime.datetime(1970, 2, 3, 9, 0),\n",
       " datetime.datetime(1970, 2, 3, 12, 0),\n",
       " datetime.datetime(1970, 2, 3, 15, 0),\n",
       " datetime.datetime(1970, 2, 3, 18, 0),\n",
       " datetime.datetime(1970, 2, 3, 21, 0),\n",
       " datetime.datetime(1970, 2, 4, 0, 0),\n",
       " datetime.datetime(1970, 2, 4, 3, 0),\n",
       " datetime.datetime(1970, 2, 4, 6, 0),\n",
       " datetime.datetime(1970, 2, 4, 9, 0),\n",
       " datetime.datetime(1970, 2, 4, 12, 0),\n",
       " datetime.datetime(1970, 2, 4, 15, 0),\n",
       " datetime.datetime(1970, 2, 4, 18, 0),\n",
       " datetime.datetime(1970, 2, 4, 21, 0),\n",
       " datetime.datetime(1970, 2, 5, 0, 0),\n",
       " datetime.datetime(1970, 2, 5, 3, 0),\n",
       " datetime.datetime(1970, 2, 5, 6, 0),\n",
       " datetime.datetime(1970, 2, 5, 9, 0),\n",
       " datetime.datetime(1970, 2, 5, 12, 0),\n",
       " datetime.datetime(1970, 2, 5, 15, 0),\n",
       " datetime.datetime(1970, 2, 5, 18, 0),\n",
       " datetime.datetime(1970, 2, 5, 21, 0),\n",
       " datetime.datetime(1970, 2, 6, 0, 0),\n",
       " datetime.datetime(1970, 2, 6, 3, 0),\n",
       " datetime.datetime(1970, 2, 6, 6, 0),\n",
       " datetime.datetime(1970, 2, 6, 9, 0),\n",
       " datetime.datetime(1970, 2, 6, 12, 0),\n",
       " datetime.datetime(1970, 2, 6, 15, 0),\n",
       " datetime.datetime(1970, 2, 6, 18, 0),\n",
       " datetime.datetime(1970, 2, 6, 21, 0),\n",
       " datetime.datetime(1970, 2, 7, 0, 0),\n",
       " datetime.datetime(1970, 2, 7, 3, 0),\n",
       " datetime.datetime(1970, 2, 7, 6, 0),\n",
       " datetime.datetime(1970, 2, 7, 9, 0),\n",
       " datetime.datetime(1970, 2, 7, 12, 0),\n",
       " datetime.datetime(1970, 2, 7, 15, 0),\n",
       " datetime.datetime(1970, 2, 7, 18, 0),\n",
       " datetime.datetime(1970, 2, 7, 21, 0),\n",
       " datetime.datetime(1970, 2, 8, 0, 0),\n",
       " datetime.datetime(1970, 2, 8, 3, 0),\n",
       " datetime.datetime(1970, 2, 8, 6, 0),\n",
       " datetime.datetime(1970, 2, 8, 9, 0),\n",
       " datetime.datetime(1970, 2, 8, 12, 0),\n",
       " datetime.datetime(1970, 2, 8, 15, 0),\n",
       " datetime.datetime(1970, 2, 8, 18, 0),\n",
       " datetime.datetime(1970, 2, 8, 21, 0),\n",
       " datetime.datetime(1970, 2, 9, 0, 0),\n",
       " datetime.datetime(1970, 2, 9, 3, 0),\n",
       " datetime.datetime(1970, 2, 9, 6, 0),\n",
       " datetime.datetime(1970, 2, 9, 9, 0),\n",
       " datetime.datetime(1970, 2, 9, 12, 0),\n",
       " datetime.datetime(1970, 2, 9, 15, 0),\n",
       " datetime.datetime(1970, 2, 9, 18, 0),\n",
       " datetime.datetime(1970, 2, 9, 21, 0),\n",
       " datetime.datetime(1970, 2, 10, 0, 0),\n",
       " datetime.datetime(1970, 2, 10, 3, 0),\n",
       " datetime.datetime(1970, 2, 10, 6, 0),\n",
       " datetime.datetime(1970, 2, 10, 9, 0),\n",
       " datetime.datetime(1970, 2, 10, 12, 0),\n",
       " datetime.datetime(1970, 2, 10, 15, 0),\n",
       " datetime.datetime(1970, 2, 10, 18, 0),\n",
       " datetime.datetime(1970, 2, 10, 21, 0),\n",
       " datetime.datetime(1970, 2, 11, 0, 0),\n",
       " datetime.datetime(1970, 2, 11, 3, 0),\n",
       " datetime.datetime(1970, 2, 11, 6, 0),\n",
       " datetime.datetime(1970, 2, 11, 9, 0),\n",
       " datetime.datetime(1970, 2, 11, 12, 0),\n",
       " datetime.datetime(1970, 2, 11, 15, 0),\n",
       " datetime.datetime(1970, 2, 11, 18, 0),\n",
       " datetime.datetime(1970, 2, 11, 21, 0),\n",
       " datetime.datetime(1970, 2, 12, 0, 0),\n",
       " datetime.datetime(1970, 2, 12, 3, 0),\n",
       " datetime.datetime(1970, 2, 12, 6, 0),\n",
       " datetime.datetime(1970, 2, 12, 9, 0),\n",
       " datetime.datetime(1970, 2, 12, 12, 0),\n",
       " datetime.datetime(1970, 2, 12, 15, 0),\n",
       " datetime.datetime(1970, 2, 12, 18, 0),\n",
       " datetime.datetime(1970, 2, 12, 21, 0),\n",
       " datetime.datetime(1970, 2, 13, 0, 0),\n",
       " datetime.datetime(1970, 2, 13, 3, 0),\n",
       " datetime.datetime(1970, 2, 13, 6, 0),\n",
       " datetime.datetime(1970, 2, 13, 9, 0),\n",
       " datetime.datetime(1970, 2, 13, 12, 0),\n",
       " datetime.datetime(1970, 2, 13, 15, 0),\n",
       " datetime.datetime(1970, 2, 13, 18, 0),\n",
       " datetime.datetime(1970, 2, 13, 21, 0),\n",
       " datetime.datetime(1970, 2, 14, 0, 0),\n",
       " datetime.datetime(1970, 2, 14, 3, 0),\n",
       " datetime.datetime(1970, 2, 14, 6, 0),\n",
       " datetime.datetime(1970, 2, 14, 9, 0),\n",
       " datetime.datetime(1970, 2, 14, 12, 0),\n",
       " datetime.datetime(1970, 2, 14, 15, 0),\n",
       " datetime.datetime(1970, 2, 14, 18, 0),\n",
       " datetime.datetime(1970, 2, 14, 21, 0),\n",
       " datetime.datetime(1970, 2, 15, 0, 0),\n",
       " datetime.datetime(1970, 2, 15, 3, 0),\n",
       " datetime.datetime(1970, 2, 15, 6, 0),\n",
       " datetime.datetime(1970, 2, 15, 9, 0),\n",
       " datetime.datetime(1970, 2, 15, 12, 0),\n",
       " datetime.datetime(1970, 2, 15, 15, 0),\n",
       " datetime.datetime(1970, 2, 15, 18, 0),\n",
       " datetime.datetime(1970, 2, 15, 21, 0),\n",
       " datetime.datetime(1970, 2, 16, 0, 0),\n",
       " datetime.datetime(1970, 2, 16, 3, 0),\n",
       " datetime.datetime(1970, 2, 16, 6, 0),\n",
       " datetime.datetime(1970, 2, 16, 9, 0),\n",
       " datetime.datetime(1970, 2, 16, 12, 0),\n",
       " datetime.datetime(1970, 2, 16, 15, 0),\n",
       " datetime.datetime(1970, 2, 16, 18, 0),\n",
       " datetime.datetime(1970, 2, 16, 21, 0),\n",
       " datetime.datetime(1970, 2, 17, 0, 0),\n",
       " datetime.datetime(1970, 2, 17, 3, 0),\n",
       " datetime.datetime(1970, 2, 17, 6, 0),\n",
       " datetime.datetime(1970, 2, 17, 9, 0),\n",
       " datetime.datetime(1970, 2, 17, 12, 0),\n",
       " datetime.datetime(1970, 2, 17, 15, 0),\n",
       " datetime.datetime(1970, 2, 17, 18, 0),\n",
       " datetime.datetime(1970, 2, 17, 21, 0),\n",
       " datetime.datetime(1970, 2, 18, 0, 0),\n",
       " datetime.datetime(1970, 2, 18, 3, 0),\n",
       " datetime.datetime(1970, 2, 18, 6, 0),\n",
       " datetime.datetime(1970, 2, 18, 9, 0),\n",
       " datetime.datetime(1970, 2, 18, 12, 0),\n",
       " datetime.datetime(1970, 2, 18, 15, 0),\n",
       " datetime.datetime(1970, 2, 18, 18, 0),\n",
       " datetime.datetime(1970, 2, 18, 21, 0),\n",
       " datetime.datetime(1970, 2, 19, 0, 0),\n",
       " datetime.datetime(1970, 2, 19, 3, 0),\n",
       " datetime.datetime(1970, 2, 19, 6, 0),\n",
       " datetime.datetime(1970, 2, 19, 9, 0),\n",
       " datetime.datetime(1970, 2, 19, 12, 0),\n",
       " datetime.datetime(1970, 2, 19, 15, 0),\n",
       " datetime.datetime(1970, 2, 19, 18, 0),\n",
       " datetime.datetime(1970, 2, 19, 21, 0),\n",
       " datetime.datetime(1970, 2, 20, 0, 0),\n",
       " datetime.datetime(1970, 2, 20, 3, 0),\n",
       " datetime.datetime(1970, 2, 20, 6, 0),\n",
       " datetime.datetime(1970, 2, 20, 9, 0),\n",
       " datetime.datetime(1970, 2, 20, 12, 0),\n",
       " datetime.datetime(1970, 2, 20, 15, 0),\n",
       " datetime.datetime(1970, 2, 20, 18, 0),\n",
       " datetime.datetime(1970, 2, 20, 21, 0),\n",
       " datetime.datetime(1970, 2, 21, 0, 0),\n",
       " datetime.datetime(1970, 2, 21, 3, 0),\n",
       " datetime.datetime(1970, 2, 21, 6, 0),\n",
       " datetime.datetime(1970, 2, 21, 9, 0),\n",
       " datetime.datetime(1970, 2, 21, 12, 0),\n",
       " datetime.datetime(1970, 2, 21, 15, 0),\n",
       " datetime.datetime(1970, 2, 21, 18, 0),\n",
       " datetime.datetime(1970, 2, 21, 21, 0),\n",
       " datetime.datetime(1970, 2, 22, 0, 0),\n",
       " datetime.datetime(1970, 2, 22, 3, 0),\n",
       " datetime.datetime(1970, 2, 22, 6, 0),\n",
       " datetime.datetime(1970, 2, 22, 9, 0),\n",
       " datetime.datetime(1970, 2, 22, 12, 0),\n",
       " datetime.datetime(1970, 2, 22, 15, 0),\n",
       " datetime.datetime(1970, 2, 22, 18, 0),\n",
       " datetime.datetime(1970, 2, 22, 21, 0),\n",
       " datetime.datetime(1970, 2, 23, 0, 0),\n",
       " datetime.datetime(1970, 2, 23, 3, 0),\n",
       " datetime.datetime(1970, 2, 23, 6, 0),\n",
       " datetime.datetime(1970, 2, 23, 9, 0),\n",
       " datetime.datetime(1970, 2, 23, 12, 0),\n",
       " datetime.datetime(1970, 2, 23, 15, 0),\n",
       " datetime.datetime(1970, 2, 23, 18, 0),\n",
       " datetime.datetime(1970, 2, 23, 21, 0),\n",
       " datetime.datetime(1970, 2, 24, 0, 0),\n",
       " datetime.datetime(1970, 2, 24, 3, 0),\n",
       " datetime.datetime(1970, 2, 24, 6, 0),\n",
       " datetime.datetime(1970, 2, 24, 9, 0),\n",
       " datetime.datetime(1970, 2, 24, 12, 0),\n",
       " datetime.datetime(1970, 2, 24, 15, 0),\n",
       " datetime.datetime(1970, 2, 24, 18, 0),\n",
       " datetime.datetime(1970, 2, 24, 21, 0),\n",
       " datetime.datetime(1970, 2, 25, 0, 0),\n",
       " datetime.datetime(1970, 2, 25, 3, 0),\n",
       " datetime.datetime(1970, 2, 25, 6, 0),\n",
       " datetime.datetime(1970, 2, 25, 9, 0),\n",
       " datetime.datetime(1970, 2, 25, 12, 0),\n",
       " datetime.datetime(1970, 2, 25, 15, 0),\n",
       " datetime.datetime(1970, 2, 25, 18, 0),\n",
       " datetime.datetime(1970, 2, 25, 21, 0),\n",
       " datetime.datetime(1970, 2, 26, 0, 0),\n",
       " datetime.datetime(1970, 2, 26, 3, 0),\n",
       " datetime.datetime(1970, 2, 26, 6, 0),\n",
       " datetime.datetime(1970, 2, 26, 9, 0),\n",
       " datetime.datetime(1970, 2, 26, 12, 0),\n",
       " datetime.datetime(1970, 2, 26, 15, 0),\n",
       " datetime.datetime(1970, 2, 26, 18, 0),\n",
       " datetime.datetime(1970, 2, 26, 21, 0),\n",
       " datetime.datetime(1970, 2, 27, 0, 0),\n",
       " datetime.datetime(1970, 2, 27, 3, 0),\n",
       " datetime.datetime(1970, 2, 27, 6, 0),\n",
       " datetime.datetime(1970, 2, 27, 9, 0),\n",
       " datetime.datetime(1970, 2, 27, 12, 0),\n",
       " datetime.datetime(1970, 2, 27, 15, 0),\n",
       " datetime.datetime(1970, 2, 27, 18, 0),\n",
       " datetime.datetime(1970, 2, 27, 21, 0),\n",
       " datetime.datetime(1970, 2, 28, 0, 0),\n",
       " datetime.datetime(1970, 2, 28, 3, 0),\n",
       " datetime.datetime(1970, 2, 28, 6, 0),\n",
       " datetime.datetime(1970, 2, 28, 9, 0),\n",
       " datetime.datetime(1970, 2, 28, 12, 0),\n",
       " datetime.datetime(1970, 2, 28, 15, 0),\n",
       " datetime.datetime(1970, 2, 28, 18, 0),\n",
       " datetime.datetime(1970, 2, 28, 21, 0),\n",
       " datetime.datetime(1970, 3, 1, 0, 0),\n",
       " datetime.datetime(1970, 3, 1, 3, 0),\n",
       " datetime.datetime(1970, 3, 1, 6, 0),\n",
       " datetime.datetime(1970, 3, 1, 9, 0),\n",
       " datetime.datetime(1970, 3, 1, 12, 0),\n",
       " datetime.datetime(1970, 3, 1, 15, 0),\n",
       " datetime.datetime(1970, 3, 1, 18, 0),\n",
       " datetime.datetime(1970, 3, 1, 21, 0),\n",
       " datetime.datetime(1970, 3, 2, 0, 0),\n",
       " datetime.datetime(1970, 3, 2, 3, 0),\n",
       " datetime.datetime(1970, 3, 2, 6, 0),\n",
       " datetime.datetime(1970, 3, 2, 9, 0),\n",
       " datetime.datetime(1970, 3, 2, 12, 0),\n",
       " datetime.datetime(1970, 3, 2, 15, 0),\n",
       " datetime.datetime(1970, 3, 2, 18, 0),\n",
       " datetime.datetime(1970, 3, 2, 21, 0),\n",
       " datetime.datetime(1970, 3, 3, 0, 0),\n",
       " datetime.datetime(1970, 3, 3, 3, 0),\n",
       " datetime.datetime(1970, 3, 3, 6, 0),\n",
       " datetime.datetime(1970, 3, 3, 9, 0),\n",
       " datetime.datetime(1970, 3, 3, 12, 0),\n",
       " datetime.datetime(1970, 3, 3, 15, 0),\n",
       " datetime.datetime(1970, 3, 3, 18, 0),\n",
       " datetime.datetime(1970, 3, 3, 21, 0),\n",
       " datetime.datetime(1970, 3, 4, 0, 0),\n",
       " datetime.datetime(1970, 3, 4, 3, 0),\n",
       " datetime.datetime(1970, 3, 4, 6, 0),\n",
       " datetime.datetime(1970, 3, 4, 9, 0),\n",
       " datetime.datetime(1970, 3, 4, 12, 0),\n",
       " datetime.datetime(1970, 3, 4, 15, 0),\n",
       " datetime.datetime(1970, 3, 4, 18, 0),\n",
       " datetime.datetime(1970, 3, 4, 21, 0),\n",
       " datetime.datetime(1970, 3, 5, 0, 0),\n",
       " datetime.datetime(1970, 3, 5, 3, 0),\n",
       " datetime.datetime(1970, 3, 5, 6, 0),\n",
       " datetime.datetime(1970, 3, 5, 9, 0),\n",
       " datetime.datetime(1970, 3, 5, 12, 0),\n",
       " datetime.datetime(1970, 3, 5, 15, 0),\n",
       " datetime.datetime(1970, 3, 5, 18, 0),\n",
       " datetime.datetime(1970, 3, 5, 21, 0),\n",
       " datetime.datetime(1970, 3, 6, 0, 0),\n",
       " datetime.datetime(1970, 3, 6, 3, 0),\n",
       " datetime.datetime(1970, 3, 6, 6, 0),\n",
       " datetime.datetime(1970, 3, 6, 9, 0),\n",
       " datetime.datetime(1970, 3, 6, 12, 0),\n",
       " datetime.datetime(1970, 3, 6, 15, 0),\n",
       " datetime.datetime(1970, 3, 6, 18, 0),\n",
       " datetime.datetime(1970, 3, 6, 21, 0),\n",
       " datetime.datetime(1970, 3, 7, 0, 0),\n",
       " datetime.datetime(1970, 3, 7, 3, 0),\n",
       " datetime.datetime(1970, 3, 7, 6, 0),\n",
       " datetime.datetime(1970, 3, 7, 9, 0),\n",
       " datetime.datetime(1970, 3, 7, 12, 0),\n",
       " datetime.datetime(1970, 3, 7, 15, 0),\n",
       " datetime.datetime(1970, 3, 7, 18, 0),\n",
       " datetime.datetime(1970, 3, 7, 21, 0),\n",
       " datetime.datetime(1970, 3, 8, 0, 0),\n",
       " datetime.datetime(1970, 3, 8, 3, 0),\n",
       " datetime.datetime(1970, 3, 8, 6, 0),\n",
       " datetime.datetime(1970, 3, 8, 9, 0),\n",
       " datetime.datetime(1970, 3, 8, 12, 0),\n",
       " datetime.datetime(1970, 3, 8, 15, 0),\n",
       " datetime.datetime(1970, 3, 8, 18, 0),\n",
       " datetime.datetime(1970, 3, 8, 21, 0),\n",
       " datetime.datetime(1970, 3, 9, 0, 0),\n",
       " datetime.datetime(1970, 3, 9, 3, 0),\n",
       " datetime.datetime(1970, 3, 9, 6, 0),\n",
       " datetime.datetime(1970, 3, 9, 9, 0),\n",
       " datetime.datetime(1970, 3, 9, 12, 0),\n",
       " datetime.datetime(1970, 3, 9, 15, 0),\n",
       " datetime.datetime(1970, 3, 9, 18, 0),\n",
       " datetime.datetime(1970, 3, 9, 21, 0),\n",
       " datetime.datetime(1970, 3, 10, 0, 0),\n",
       " datetime.datetime(1970, 3, 10, 3, 0),\n",
       " datetime.datetime(1970, 3, 10, 6, 0),\n",
       " datetime.datetime(1970, 3, 10, 9, 0),\n",
       " datetime.datetime(1970, 3, 10, 12, 0),\n",
       " datetime.datetime(1970, 3, 10, 15, 0),\n",
       " datetime.datetime(1970, 3, 10, 18, 0),\n",
       " datetime.datetime(1970, 3, 10, 21, 0),\n",
       " datetime.datetime(1970, 3, 11, 0, 0),\n",
       " datetime.datetime(1970, 3, 11, 3, 0),\n",
       " datetime.datetime(1970, 3, 11, 6, 0),\n",
       " datetime.datetime(1970, 3, 11, 9, 0),\n",
       " datetime.datetime(1970, 3, 11, 12, 0),\n",
       " datetime.datetime(1970, 3, 11, 15, 0),\n",
       " datetime.datetime(1970, 3, 11, 18, 0),\n",
       " datetime.datetime(1970, 3, 11, 21, 0),\n",
       " datetime.datetime(1970, 3, 12, 0, 0),\n",
       " datetime.datetime(1970, 3, 12, 3, 0),\n",
       " datetime.datetime(1970, 3, 12, 6, 0),\n",
       " datetime.datetime(1970, 3, 12, 9, 0),\n",
       " datetime.datetime(1970, 3, 12, 12, 0),\n",
       " datetime.datetime(1970, 3, 12, 15, 0),\n",
       " datetime.datetime(1970, 3, 12, 18, 0),\n",
       " datetime.datetime(1970, 3, 12, 21, 0),\n",
       " datetime.datetime(1970, 3, 13, 0, 0),\n",
       " datetime.datetime(1970, 3, 13, 3, 0),\n",
       " datetime.datetime(1970, 3, 13, 6, 0),\n",
       " datetime.datetime(1970, 3, 13, 9, 0),\n",
       " datetime.datetime(1970, 3, 13, 12, 0),\n",
       " datetime.datetime(1970, 3, 13, 15, 0),\n",
       " datetime.datetime(1970, 3, 13, 18, 0),\n",
       " datetime.datetime(1970, 3, 13, 21, 0),\n",
       " datetime.datetime(1970, 3, 14, 0, 0),\n",
       " datetime.datetime(1970, 3, 14, 3, 0),\n",
       " datetime.datetime(1970, 3, 14, 6, 0),\n",
       " datetime.datetime(1970, 3, 14, 9, 0),\n",
       " datetime.datetime(1970, 3, 14, 12, 0),\n",
       " datetime.datetime(1970, 3, 14, 15, 0),\n",
       " datetime.datetime(1970, 3, 14, 18, 0),\n",
       " datetime.datetime(1970, 3, 14, 21, 0),\n",
       " datetime.datetime(1970, 3, 15, 0, 0),\n",
       " datetime.datetime(1970, 3, 15, 3, 0),\n",
       " datetime.datetime(1970, 3, 15, 6, 0),\n",
       " datetime.datetime(1970, 3, 15, 9, 0),\n",
       " datetime.datetime(1970, 3, 15, 12, 0),\n",
       " datetime.datetime(1970, 3, 15, 15, 0),\n",
       " datetime.datetime(1970, 3, 15, 18, 0),\n",
       " datetime.datetime(1970, 3, 15, 21, 0),\n",
       " datetime.datetime(1970, 3, 16, 0, 0),\n",
       " datetime.datetime(1970, 3, 16, 3, 0),\n",
       " datetime.datetime(1970, 3, 16, 6, 0),\n",
       " datetime.datetime(1970, 3, 16, 9, 0),\n",
       " datetime.datetime(1970, 3, 16, 12, 0),\n",
       " datetime.datetime(1970, 3, 16, 15, 0),\n",
       " datetime.datetime(1970, 3, 16, 18, 0),\n",
       " datetime.datetime(1970, 3, 16, 21, 0),\n",
       " datetime.datetime(1970, 3, 17, 0, 0),\n",
       " datetime.datetime(1970, 3, 17, 3, 0),\n",
       " datetime.datetime(1970, 3, 17, 6, 0),\n",
       " datetime.datetime(1970, 3, 17, 9, 0),\n",
       " datetime.datetime(1970, 3, 17, 12, 0),\n",
       " datetime.datetime(1970, 3, 17, 15, 0),\n",
       " datetime.datetime(1970, 3, 17, 18, 0),\n",
       " datetime.datetime(1970, 3, 17, 21, 0),\n",
       " datetime.datetime(1970, 3, 18, 0, 0),\n",
       " datetime.datetime(1970, 3, 18, 3, 0),\n",
       " datetime.datetime(1970, 3, 18, 6, 0),\n",
       " datetime.datetime(1970, 3, 18, 9, 0),\n",
       " datetime.datetime(1970, 3, 18, 12, 0),\n",
       " datetime.datetime(1970, 3, 18, 15, 0),\n",
       " datetime.datetime(1970, 3, 18, 18, 0),\n",
       " datetime.datetime(1970, 3, 18, 21, 0),\n",
       " datetime.datetime(1970, 3, 19, 0, 0),\n",
       " datetime.datetime(1970, 3, 19, 3, 0),\n",
       " datetime.datetime(1970, 3, 19, 6, 0),\n",
       " datetime.datetime(1970, 3, 19, 9, 0),\n",
       " datetime.datetime(1970, 3, 19, 12, 0),\n",
       " datetime.datetime(1970, 3, 19, 15, 0),\n",
       " datetime.datetime(1970, 3, 19, 18, 0),\n",
       " datetime.datetime(1970, 3, 19, 21, 0),\n",
       " datetime.datetime(1970, 3, 20, 0, 0),\n",
       " datetime.datetime(1970, 3, 20, 3, 0),\n",
       " datetime.datetime(1970, 3, 20, 6, 0),\n",
       " datetime.datetime(1970, 3, 20, 9, 0),\n",
       " datetime.datetime(1970, 3, 20, 12, 0),\n",
       " datetime.datetime(1970, 3, 20, 15, 0),\n",
       " datetime.datetime(1970, 3, 20, 18, 0),\n",
       " datetime.datetime(1970, 3, 20, 21, 0),\n",
       " datetime.datetime(1970, 3, 21, 0, 0),\n",
       " datetime.datetime(1970, 3, 21, 3, 0),\n",
       " datetime.datetime(1970, 3, 21, 6, 0),\n",
       " datetime.datetime(1970, 3, 21, 9, 0),\n",
       " datetime.datetime(1970, 3, 21, 12, 0),\n",
       " datetime.datetime(1970, 3, 21, 15, 0),\n",
       " datetime.datetime(1970, 3, 21, 18, 0),\n",
       " datetime.datetime(1970, 3, 21, 21, 0),\n",
       " datetime.datetime(1970, 3, 22, 0, 0),\n",
       " datetime.datetime(1970, 3, 22, 3, 0),\n",
       " datetime.datetime(1970, 3, 22, 6, 0),\n",
       " datetime.datetime(1970, 3, 22, 9, 0),\n",
       " datetime.datetime(1970, 3, 22, 12, 0),\n",
       " datetime.datetime(1970, 3, 22, 15, 0),\n",
       " datetime.datetime(1970, 3, 22, 18, 0),\n",
       " datetime.datetime(1970, 3, 22, 21, 0),\n",
       " datetime.datetime(1970, 3, 23, 0, 0),\n",
       " datetime.datetime(1970, 3, 23, 3, 0),\n",
       " datetime.datetime(1970, 3, 23, 6, 0),\n",
       " datetime.datetime(1970, 3, 23, 9, 0),\n",
       " datetime.datetime(1970, 3, 23, 12, 0),\n",
       " datetime.datetime(1970, 3, 23, 15, 0),\n",
       " datetime.datetime(1970, 3, 23, 18, 0),\n",
       " datetime.datetime(1970, 3, 23, 21, 0),\n",
       " datetime.datetime(1970, 3, 24, 0, 0),\n",
       " datetime.datetime(1970, 3, 24, 3, 0),\n",
       " datetime.datetime(1970, 3, 24, 6, 0),\n",
       " datetime.datetime(1970, 3, 24, 9, 0),\n",
       " datetime.datetime(1970, 3, 24, 12, 0),\n",
       " datetime.datetime(1970, 3, 24, 15, 0),\n",
       " datetime.datetime(1970, 3, 24, 18, 0),\n",
       " datetime.datetime(1970, 3, 24, 21, 0),\n",
       " datetime.datetime(1970, 3, 25, 0, 0),\n",
       " datetime.datetime(1970, 3, 25, 3, 0),\n",
       " datetime.datetime(1970, 3, 25, 6, 0),\n",
       " datetime.datetime(1970, 3, 25, 9, 0),\n",
       " datetime.datetime(1970, 3, 25, 12, 0),\n",
       " datetime.datetime(1970, 3, 25, 15, 0),\n",
       " datetime.datetime(1970, 3, 25, 18, 0),\n",
       " datetime.datetime(1970, 3, 25, 21, 0),\n",
       " datetime.datetime(1970, 3, 26, 0, 0),\n",
       " datetime.datetime(1970, 3, 26, 3, 0),\n",
       " datetime.datetime(1970, 3, 26, 6, 0),\n",
       " datetime.datetime(1970, 3, 26, 9, 0),\n",
       " datetime.datetime(1970, 3, 26, 12, 0),\n",
       " datetime.datetime(1970, 3, 26, 15, 0),\n",
       " datetime.datetime(1970, 3, 26, 18, 0),\n",
       " datetime.datetime(1970, 3, 26, 21, 0),\n",
       " datetime.datetime(1970, 3, 27, 0, 0),\n",
       " datetime.datetime(1970, 3, 27, 3, 0),\n",
       " datetime.datetime(1970, 3, 27, 6, 0),\n",
       " datetime.datetime(1970, 3, 27, 9, 0),\n",
       " datetime.datetime(1970, 3, 27, 12, 0),\n",
       " datetime.datetime(1970, 3, 27, 15, 0),\n",
       " datetime.datetime(1970, 3, 27, 18, 0),\n",
       " datetime.datetime(1970, 3, 27, 21, 0),\n",
       " datetime.datetime(1970, 3, 28, 0, 0),\n",
       " datetime.datetime(1970, 3, 28, 3, 0),\n",
       " datetime.datetime(1970, 3, 28, 6, 0),\n",
       " datetime.datetime(1970, 3, 28, 9, 0),\n",
       " datetime.datetime(1970, 3, 28, 12, 0),\n",
       " datetime.datetime(1970, 3, 28, 15, 0),\n",
       " datetime.datetime(1970, 3, 28, 18, 0),\n",
       " datetime.datetime(1970, 3, 28, 21, 0),\n",
       " datetime.datetime(1970, 3, 29, 0, 0),\n",
       " datetime.datetime(1970, 3, 29, 3, 0),\n",
       " datetime.datetime(1970, 3, 29, 6, 0),\n",
       " datetime.datetime(1970, 3, 29, 9, 0),\n",
       " datetime.datetime(1970, 3, 29, 12, 0),\n",
       " datetime.datetime(1970, 3, 29, 15, 0),\n",
       " datetime.datetime(1970, 3, 29, 18, 0),\n",
       " datetime.datetime(1970, 3, 29, 21, 0),\n",
       " datetime.datetime(1970, 3, 30, 0, 0),\n",
       " datetime.datetime(1970, 3, 30, 3, 0),\n",
       " datetime.datetime(1970, 3, 30, 6, 0),\n",
       " datetime.datetime(1970, 3, 30, 9, 0),\n",
       " datetime.datetime(1970, 3, 30, 12, 0),\n",
       " datetime.datetime(1970, 3, 30, 15, 0),\n",
       " datetime.datetime(1970, 3, 30, 18, 0),\n",
       " datetime.datetime(1970, 3, 30, 21, 0),\n",
       " datetime.datetime(1970, 3, 31, 0, 0),\n",
       " datetime.datetime(1970, 3, 31, 3, 0),\n",
       " datetime.datetime(1970, 3, 31, 6, 0),\n",
       " datetime.datetime(1970, 3, 31, 9, 0),\n",
       " datetime.datetime(1970, 3, 31, 12, 0),\n",
       " datetime.datetime(1970, 3, 31, 15, 0),\n",
       " datetime.datetime(1970, 3, 31, 18, 0),\n",
       " datetime.datetime(1970, 3, 31, 21, 0),\n",
       " datetime.datetime(1970, 4, 1, 0, 0),\n",
       " datetime.datetime(1970, 4, 1, 3, 0),\n",
       " datetime.datetime(1970, 4, 1, 6, 0),\n",
       " datetime.datetime(1970, 4, 1, 9, 0),\n",
       " datetime.datetime(1970, 4, 1, 12, 0),\n",
       " datetime.datetime(1970, 4, 1, 15, 0),\n",
       " datetime.datetime(1970, 4, 1, 18, 0),\n",
       " datetime.datetime(1970, 4, 1, 21, 0),\n",
       " datetime.datetime(1970, 4, 2, 0, 0),\n",
       " datetime.datetime(1970, 4, 2, 3, 0),\n",
       " datetime.datetime(1970, 4, 2, 6, 0),\n",
       " datetime.datetime(1970, 4, 2, 9, 0),\n",
       " datetime.datetime(1970, 4, 2, 12, 0),\n",
       " datetime.datetime(1970, 4, 2, 15, 0),\n",
       " datetime.datetime(1970, 4, 2, 18, 0),\n",
       " datetime.datetime(1970, 4, 2, 21, 0),\n",
       " datetime.datetime(1970, 4, 3, 0, 0),\n",
       " datetime.datetime(1970, 4, 3, 3, 0),\n",
       " datetime.datetime(1970, 4, 3, 6, 0),\n",
       " datetime.datetime(1970, 4, 3, 9, 0),\n",
       " datetime.datetime(1970, 4, 3, 12, 0),\n",
       " datetime.datetime(1970, 4, 3, 15, 0),\n",
       " datetime.datetime(1970, 4, 3, 18, 0),\n",
       " datetime.datetime(1970, 4, 3, 21, 0),\n",
       " datetime.datetime(1970, 4, 4, 0, 0),\n",
       " datetime.datetime(1970, 4, 4, 3, 0),\n",
       " datetime.datetime(1970, 4, 4, 6, 0),\n",
       " datetime.datetime(1970, 4, 4, 9, 0),\n",
       " datetime.datetime(1970, 4, 4, 12, 0),\n",
       " datetime.datetime(1970, 4, 4, 15, 0),\n",
       " datetime.datetime(1970, 4, 4, 18, 0),\n",
       " datetime.datetime(1970, 4, 4, 21, 0),\n",
       " datetime.datetime(1970, 4, 5, 0, 0),\n",
       " datetime.datetime(1970, 4, 5, 3, 0),\n",
       " datetime.datetime(1970, 4, 5, 6, 0),\n",
       " datetime.datetime(1970, 4, 5, 9, 0),\n",
       " datetime.datetime(1970, 4, 5, 12, 0),\n",
       " datetime.datetime(1970, 4, 5, 15, 0),\n",
       " datetime.datetime(1970, 4, 5, 18, 0),\n",
       " datetime.datetime(1970, 4, 5, 21, 0),\n",
       " datetime.datetime(1970, 4, 6, 0, 0),\n",
       " datetime.datetime(1970, 4, 6, 3, 0),\n",
       " datetime.datetime(1970, 4, 6, 6, 0),\n",
       " datetime.datetime(1970, 4, 6, 9, 0),\n",
       " datetime.datetime(1970, 4, 6, 12, 0),\n",
       " datetime.datetime(1970, 4, 6, 15, 0),\n",
       " datetime.datetime(1970, 4, 6, 18, 0),\n",
       " datetime.datetime(1970, 4, 6, 21, 0),\n",
       " datetime.datetime(1970, 4, 7, 0, 0),\n",
       " datetime.datetime(1970, 4, 7, 3, 0),\n",
       " datetime.datetime(1970, 4, 7, 6, 0),\n",
       " datetime.datetime(1970, 4, 7, 9, 0),\n",
       " datetime.datetime(1970, 4, 7, 12, 0),\n",
       " datetime.datetime(1970, 4, 7, 15, 0),\n",
       " datetime.datetime(1970, 4, 7, 18, 0),\n",
       " datetime.datetime(1970, 4, 7, 21, 0),\n",
       " datetime.datetime(1970, 4, 8, 0, 0),\n",
       " datetime.datetime(1970, 4, 8, 3, 0),\n",
       " datetime.datetime(1970, 4, 8, 6, 0),\n",
       " datetime.datetime(1970, 4, 8, 9, 0),\n",
       " datetime.datetime(1970, 4, 8, 12, 0),\n",
       " datetime.datetime(1970, 4, 8, 15, 0),\n",
       " datetime.datetime(1970, 4, 8, 18, 0),\n",
       " datetime.datetime(1970, 4, 8, 21, 0),\n",
       " datetime.datetime(1970, 4, 9, 0, 0),\n",
       " datetime.datetime(1970, 4, 9, 3, 0),\n",
       " datetime.datetime(1970, 4, 9, 6, 0),\n",
       " datetime.datetime(1970, 4, 9, 9, 0),\n",
       " datetime.datetime(1970, 4, 9, 12, 0),\n",
       " datetime.datetime(1970, 4, 9, 15, 0),\n",
       " datetime.datetime(1970, 4, 9, 18, 0),\n",
       " datetime.datetime(1970, 4, 9, 21, 0),\n",
       " datetime.datetime(1970, 4, 10, 0, 0),\n",
       " datetime.datetime(1970, 4, 10, 3, 0),\n",
       " datetime.datetime(1970, 4, 10, 6, 0),\n",
       " datetime.datetime(1970, 4, 10, 9, 0),\n",
       " datetime.datetime(1970, 4, 10, 12, 0),\n",
       " datetime.datetime(1970, 4, 10, 15, 0),\n",
       " datetime.datetime(1970, 4, 10, 18, 0),\n",
       " datetime.datetime(1970, 4, 10, 21, 0),\n",
       " datetime.datetime(1970, 4, 11, 0, 0),\n",
       " datetime.datetime(1970, 4, 11, 3, 0),\n",
       " datetime.datetime(1970, 4, 11, 6, 0),\n",
       " datetime.datetime(1970, 4, 11, 9, 0),\n",
       " datetime.datetime(1970, 4, 11, 12, 0),\n",
       " datetime.datetime(1970, 4, 11, 15, 0),\n",
       " datetime.datetime(1970, 4, 11, 18, 0),\n",
       " datetime.datetime(1970, 4, 11, 21, 0),\n",
       " datetime.datetime(1970, 4, 12, 0, 0),\n",
       " datetime.datetime(1970, 4, 12, 3, 0),\n",
       " datetime.datetime(1970, 4, 12, 6, 0),\n",
       " datetime.datetime(1970, 4, 12, 9, 0),\n",
       " datetime.datetime(1970, 4, 12, 12, 0),\n",
       " datetime.datetime(1970, 4, 12, 15, 0),\n",
       " datetime.datetime(1970, 4, 12, 18, 0),\n",
       " datetime.datetime(1970, 4, 12, 21, 0),\n",
       " datetime.datetime(1970, 4, 13, 0, 0),\n",
       " datetime.datetime(1970, 4, 13, 3, 0),\n",
       " datetime.datetime(1970, 4, 13, 6, 0),\n",
       " datetime.datetime(1970, 4, 13, 9, 0),\n",
       " datetime.datetime(1970, 4, 13, 12, 0),\n",
       " datetime.datetime(1970, 4, 13, 15, 0),\n",
       " datetime.datetime(1970, 4, 13, 18, 0),\n",
       " datetime.datetime(1970, 4, 13, 21, 0),\n",
       " datetime.datetime(1970, 4, 14, 0, 0),\n",
       " datetime.datetime(1970, 4, 14, 3, 0),\n",
       " datetime.datetime(1970, 4, 14, 6, 0),\n",
       " datetime.datetime(1970, 4, 14, 9, 0),\n",
       " datetime.datetime(1970, 4, 14, 12, 0),\n",
       " datetime.datetime(1970, 4, 14, 15, 0),\n",
       " datetime.datetime(1970, 4, 14, 18, 0),\n",
       " datetime.datetime(1970, 4, 14, 21, 0),\n",
       " datetime.datetime(1970, 4, 15, 0, 0),\n",
       " datetime.datetime(1970, 4, 15, 3, 0),\n",
       " datetime.datetime(1970, 4, 15, 6, 0),\n",
       " datetime.datetime(1970, 4, 15, 9, 0),\n",
       " datetime.datetime(1970, 4, 15, 12, 0),\n",
       " datetime.datetime(1970, 4, 15, 15, 0),\n",
       " datetime.datetime(1970, 4, 15, 18, 0),\n",
       " datetime.datetime(1970, 4, 15, 21, 0),\n",
       " datetime.datetime(1970, 4, 16, 0, 0),\n",
       " datetime.datetime(1970, 4, 16, 3, 0),\n",
       " datetime.datetime(1970, 4, 16, 6, 0),\n",
       " datetime.datetime(1970, 4, 16, 9, 0),\n",
       " datetime.datetime(1970, 4, 16, 12, 0),\n",
       " datetime.datetime(1970, 4, 16, 15, 0),\n",
       " datetime.datetime(1970, 4, 16, 18, 0),\n",
       " datetime.datetime(1970, 4, 16, 21, 0),\n",
       " datetime.datetime(1970, 4, 17, 0, 0),\n",
       " datetime.datetime(1970, 4, 17, 3, 0),\n",
       " datetime.datetime(1970, 4, 17, 6, 0),\n",
       " datetime.datetime(1970, 4, 17, 9, 0),\n",
       " datetime.datetime(1970, 4, 17, 12, 0),\n",
       " datetime.datetime(1970, 4, 17, 15, 0),\n",
       " datetime.datetime(1970, 4, 17, 18, 0),\n",
       " datetime.datetime(1970, 4, 17, 21, 0),\n",
       " datetime.datetime(1970, 4, 18, 0, 0),\n",
       " datetime.datetime(1970, 4, 18, 3, 0),\n",
       " datetime.datetime(1970, 4, 18, 6, 0),\n",
       " datetime.datetime(1970, 4, 18, 9, 0),\n",
       " datetime.datetime(1970, 4, 18, 12, 0),\n",
       " datetime.datetime(1970, 4, 18, 15, 0),\n",
       " datetime.datetime(1970, 4, 18, 18, 0),\n",
       " datetime.datetime(1970, 4, 18, 21, 0),\n",
       " datetime.datetime(1970, 4, 19, 0, 0),\n",
       " datetime.datetime(1970, 4, 19, 3, 0),\n",
       " datetime.datetime(1970, 4, 19, 6, 0),\n",
       " datetime.datetime(1970, 4, 19, 9, 0),\n",
       " datetime.datetime(1970, 4, 19, 12, 0),\n",
       " datetime.datetime(1970, 4, 19, 15, 0),\n",
       " datetime.datetime(1970, 4, 19, 18, 0),\n",
       " datetime.datetime(1970, 4, 19, 21, 0),\n",
       " datetime.datetime(1970, 4, 20, 0, 0),\n",
       " datetime.datetime(1970, 4, 20, 3, 0),\n",
       " datetime.datetime(1970, 4, 20, 6, 0),\n",
       " datetime.datetime(1970, 4, 20, 9, 0),\n",
       " datetime.datetime(1970, 4, 20, 12, 0),\n",
       " datetime.datetime(1970, 4, 20, 15, 0),\n",
       " datetime.datetime(1970, 4, 20, 18, 0),\n",
       " datetime.datetime(1970, 4, 20, 21, 0),\n",
       " datetime.datetime(1970, 4, 21, 0, 0),\n",
       " datetime.datetime(1970, 4, 21, 3, 0),\n",
       " datetime.datetime(1970, 4, 21, 6, 0),\n",
       " datetime.datetime(1970, 4, 21, 9, 0),\n",
       " datetime.datetime(1970, 4, 21, 12, 0),\n",
       " datetime.datetime(1970, 4, 21, 15, 0),\n",
       " datetime.datetime(1970, 4, 21, 18, 0),\n",
       " datetime.datetime(1970, 4, 21, 21, 0),\n",
       " datetime.datetime(1970, 4, 22, 0, 0),\n",
       " datetime.datetime(1970, 4, 22, 3, 0),\n",
       " datetime.datetime(1970, 4, 22, 6, 0),\n",
       " datetime.datetime(1970, 4, 22, 9, 0),\n",
       " datetime.datetime(1970, 4, 22, 12, 0),\n",
       " datetime.datetime(1970, 4, 22, 15, 0),\n",
       " datetime.datetime(1970, 4, 22, 18, 0),\n",
       " datetime.datetime(1970, 4, 22, 21, 0),\n",
       " datetime.datetime(1970, 4, 23, 0, 0),\n",
       " datetime.datetime(1970, 4, 23, 3, 0),\n",
       " datetime.datetime(1970, 4, 23, 6, 0),\n",
       " datetime.datetime(1970, 4, 23, 9, 0),\n",
       " datetime.datetime(1970, 4, 23, 12, 0),\n",
       " datetime.datetime(1970, 4, 23, 15, 0),\n",
       " datetime.datetime(1970, 4, 23, 18, 0),\n",
       " datetime.datetime(1970, 4, 23, 21, 0),\n",
       " datetime.datetime(1970, 4, 24, 0, 0),\n",
       " datetime.datetime(1970, 4, 24, 3, 0),\n",
       " datetime.datetime(1970, 4, 24, 6, 0),\n",
       " datetime.datetime(1970, 4, 24, 9, 0),\n",
       " datetime.datetime(1970, 4, 24, 12, 0),\n",
       " datetime.datetime(1970, 4, 24, 15, 0),\n",
       " datetime.datetime(1970, 4, 24, 18, 0),\n",
       " datetime.datetime(1970, 4, 24, 21, 0),\n",
       " datetime.datetime(1970, 4, 25, 0, 0),\n",
       " datetime.datetime(1970, 4, 25, 3, 0),\n",
       " datetime.datetime(1970, 4, 25, 6, 0),\n",
       " datetime.datetime(1970, 4, 25, 9, 0),\n",
       " datetime.datetime(1970, 4, 25, 12, 0),\n",
       " datetime.datetime(1970, 4, 25, 15, 0),\n",
       " datetime.datetime(1970, 4, 25, 18, 0),\n",
       " datetime.datetime(1970, 4, 25, 21, 0),\n",
       " datetime.datetime(1970, 4, 26, 0, 0),\n",
       " datetime.datetime(1970, 4, 26, 3, 0),\n",
       " datetime.datetime(1970, 4, 26, 6, 0),\n",
       " datetime.datetime(1970, 4, 26, 9, 0),\n",
       " datetime.datetime(1970, 4, 26, 12, 0),\n",
       " datetime.datetime(1970, 4, 26, 15, 0),\n",
       " datetime.datetime(1970, 4, 26, 18, 0),\n",
       " datetime.datetime(1970, 4, 26, 21, 0),\n",
       " datetime.datetime(1970, 4, 27, 0, 0),\n",
       " datetime.datetime(1970, 4, 27, 3, 0),\n",
       " datetime.datetime(1970, 4, 27, 6, 0),\n",
       " datetime.datetime(1970, 4, 27, 9, 0),\n",
       " datetime.datetime(1970, 4, 27, 12, 0),\n",
       " datetime.datetime(1970, 4, 27, 15, 0),\n",
       " datetime.datetime(1970, 4, 27, 18, 0),\n",
       " datetime.datetime(1970, 4, 27, 21, 0),\n",
       " datetime.datetime(1970, 4, 28, 0, 0),\n",
       " datetime.datetime(1970, 4, 28, 3, 0),\n",
       " datetime.datetime(1970, 4, 28, 6, 0),\n",
       " datetime.datetime(1970, 4, 28, 9, 0),\n",
       " datetime.datetime(1970, 4, 28, 12, 0),\n",
       " datetime.datetime(1970, 4, 28, 15, 0),\n",
       " datetime.datetime(1970, 4, 28, 18, 0),\n",
       " datetime.datetime(1970, 4, 28, 21, 0),\n",
       " datetime.datetime(1970, 4, 29, 0, 0),\n",
       " datetime.datetime(1970, 4, 29, 3, 0),\n",
       " datetime.datetime(1970, 4, 29, 6, 0),\n",
       " datetime.datetime(1970, 4, 29, 9, 0),\n",
       " datetime.datetime(1970, 4, 29, 12, 0),\n",
       " datetime.datetime(1970, 4, 29, 15, 0),\n",
       " datetime.datetime(1970, 4, 29, 18, 0),\n",
       " datetime.datetime(1970, 4, 29, 21, 0),\n",
       " datetime.datetime(1970, 4, 30, 0, 0),\n",
       " datetime.datetime(1970, 4, 30, 3, 0),\n",
       " datetime.datetime(1970, 4, 30, 6, 0),\n",
       " datetime.datetime(1970, 4, 30, 9, 0),\n",
       " datetime.datetime(1970, 4, 30, 12, 0),\n",
       " datetime.datetime(1970, 4, 30, 15, 0),\n",
       " datetime.datetime(1970, 4, 30, 18, 0),\n",
       " datetime.datetime(1970, 4, 30, 21, 0),\n",
       " datetime.datetime(1970, 5, 1, 0, 0),\n",
       " datetime.datetime(1970, 5, 1, 3, 0),\n",
       " datetime.datetime(1970, 5, 1, 6, 0),\n",
       " datetime.datetime(1970, 5, 1, 9, 0),\n",
       " datetime.datetime(1970, 5, 1, 12, 0),\n",
       " datetime.datetime(1970, 5, 1, 15, 0),\n",
       " datetime.datetime(1970, 5, 1, 18, 0),\n",
       " datetime.datetime(1970, 5, 1, 21, 0),\n",
       " datetime.datetime(1970, 5, 2, 0, 0),\n",
       " datetime.datetime(1970, 5, 2, 3, 0),\n",
       " datetime.datetime(1970, 5, 2, 6, 0),\n",
       " datetime.datetime(1970, 5, 2, 9, 0),\n",
       " datetime.datetime(1970, 5, 2, 12, 0),\n",
       " datetime.datetime(1970, 5, 2, 15, 0),\n",
       " datetime.datetime(1970, 5, 2, 18, 0),\n",
       " datetime.datetime(1970, 5, 2, 21, 0),\n",
       " datetime.datetime(1970, 5, 3, 0, 0),\n",
       " datetime.datetime(1970, 5, 3, 3, 0),\n",
       " datetime.datetime(1970, 5, 3, 6, 0),\n",
       " datetime.datetime(1970, 5, 3, 9, 0),\n",
       " datetime.datetime(1970, 5, 3, 12, 0),\n",
       " datetime.datetime(1970, 5, 3, 15, 0),\n",
       " datetime.datetime(1970, 5, 3, 18, 0),\n",
       " datetime.datetime(1970, 5, 3, 21, 0),\n",
       " datetime.datetime(1970, 5, 4, 0, 0),\n",
       " datetime.datetime(1970, 5, 4, 3, 0),\n",
       " datetime.datetime(1970, 5, 4, 6, 0),\n",
       " datetime.datetime(1970, 5, 4, 9, 0),\n",
       " datetime.datetime(1970, 5, 4, 12, 0),\n",
       " datetime.datetime(1970, 5, 4, 15, 0),\n",
       " datetime.datetime(1970, 5, 4, 18, 0),\n",
       " datetime.datetime(1970, 5, 4, 21, 0),\n",
       " datetime.datetime(1970, 5, 5, 0, 0),\n",
       " datetime.datetime(1970, 5, 5, 3, 0),\n",
       " datetime.datetime(1970, 5, 5, 6, 0),\n",
       " datetime.datetime(1970, 5, 5, 9, 0),\n",
       " datetime.datetime(1970, 5, 5, 12, 0),\n",
       " datetime.datetime(1970, 5, 5, 15, 0),\n",
       " datetime.datetime(1970, 5, 5, 18, 0),\n",
       " datetime.datetime(1970, 5, 5, 21, 0)]"
      ]
     },
     "execution_count": 54,
     "metadata": {},
     "output_type": "execute_result"
    }
   ],
   "source": [
    "do = datetime(1970, 1, 1)     # The 'reference' data, Jan 1, 1970\n",
    "dt = timedelta(hours=3)       # The increment between datetime objects in the sequence\n",
    "\n",
    "dates = [do+n*dt for n in range(1000)]\n",
    "dates"
   ]
  },
  {
   "cell_type": "markdown",
   "metadata": {},
   "source": [
    "# J. Reading and writing text files\n",
    "\n",
    "There are many different file formats. Data are often in a specialized binary format. But there are also many datasets that are simple text files. Basic text file commands are included in the core language."
   ]
  },
  {
   "cell_type": "code",
   "execution_count": 55,
   "metadata": {
    "collapsed": true
   },
   "outputs": [],
   "source": [
    "f = open('02_GPS.dat')   # open a data file created by a handheld GPS unit.\n",
    "\n",
    "# f.close()              # later when we are done with the file, we would close it with this command."
   ]
  },
  {
   "cell_type": "markdown",
   "metadata": {},
   "source": [
    "---\n",
    "### *Exercise*\n",
    "\n",
    "> Use tab completion to explore the different attributes and methods of the `file` object.\n",
    "\n",
    "> We will use the `f.readlines()` method to iterate over all of the lines in the file. See what this command returns.\n",
    "\n",
    "---"
   ]
  },
  {
   "cell_type": "code",
   "execution_count": 56,
   "metadata": {
    "collapsed": false
   },
   "outputs": [
    {
     "name": "stdout",
     "output_type": "stream",
     "text": [
      "N42 49.822   W70 45.413\n",
      "N42 49.820   W70 45.415\n",
      "N42 49.821   W70 45.408\n",
      "N42 49.824   W70 45.400\n",
      "N42 49.825   W70 45.393\n",
      "N42 49.824   W70 45.379\n",
      "N42 49.821   W70 45.370\n",
      "N42 49.821   W70 45.362\n",
      "N42 49.821   W70 45.353\n",
      "N42 49.816   W70 45.341\n",
      "N42 49.807   W70 45.330\n",
      "N42 49.794   W70 45.324\n",
      "N42 49.784   W70 45.326\n",
      "N42 49.776   W70 45.339\n",
      "N42 49.781   W70 45.361\n",
      "N42 49.786   W70 45.381\n",
      "N42 49.780   W70 45.400\n",
      "N42 49.767   W70 45.412\n",
      "N42 49.750   W70 45.420\n",
      "N42 49.735   W70 45.430\n",
      "N42 49.719   W70 45.440\n",
      "N42 49.701   W70 45.447\n",
      "N42 49.683   W70 45.455\n",
      "N42 49.668   W70 45.465\n",
      "N42 49.652   W70 45.476\n",
      "N42 49.637   W70 45.489\n",
      "N42 49.623   W70 45.502\n",
      "N42 49.611   W70 45.520\n",
      "N42 49.600   W70 45.537\n",
      "N42 49.585   W70 45.552\n",
      "N42 49.574   W70 45.569\n",
      "N42 49.562   W70 45.586\n",
      "N42 49.549   W70 45.601\n",
      "N42 49.536   W70 45.617\n",
      "N42 49.525   W70 45.632\n",
      "N42 49.513   W70 45.646\n",
      "N42 49.499   W70 45.660\n",
      "N42 49.486   W70 45.675\n",
      "N42 49.473   W70 45.690\n",
      "N42 49.463   W70 45.707\n",
      "N42 49.452   W70 45.722\n",
      "N42 49.436   W70 45.734\n",
      "N42 49.422   W70 45.747\n",
      "N42 49.412   W70 45.762\n",
      "N42 49.401   W70 45.780\n",
      "N42 49.388   W70 45.796\n",
      "N42 49.377   W70 45.811\n",
      "N42 49.365   W70 45.828\n",
      "N42 49.354   W70 45.845\n",
      "N42 49.342   W70 45.861\n",
      "N42 49.329   W70 45.877\n",
      "N42 49.318   W70 45.892\n",
      "N42 49.307   W70 45.909\n",
      "N42 49.297   W70 45.926\n",
      "N42 49.287   W70 45.945\n",
      "N42 49.276   W70 45.962\n",
      "N42 49.264   W70 45.977\n",
      "N42 49.252   W70 45.993\n",
      "N42 49.244   W70 46.012\n",
      "N42 49.237   W70 46.031\n",
      "N42 49.226   W70 46.052\n",
      "N42 49.217   W70 46.070\n",
      "N42 49.208   W70 46.088\n",
      "N42 49.199   W70 46.109\n",
      "N42 49.191   W70 46.128\n",
      "N42 49.182   W70 46.147\n",
      "N42 49.170   W70 46.164\n",
      "N42 49.159   W70 46.181\n",
      "N42 49.154   W70 46.201\n",
      "N42 49.154   W70 46.223\n",
      "N42 49.153   W70 46.245\n",
      "N42 49.145   W70 46.264\n",
      "N42 49.136   W70 46.284\n",
      "N42 49.125   W70 46.299\n",
      "N42 49.112   W70 46.313\n",
      "N42 49.099   W70 46.329\n",
      "N42 49.091   W70 46.345\n",
      "N42 49.087   W70 46.366\n",
      "N42 49.082   W70 46.387\n",
      "N42 49.072   W70 46.406\n",
      "N42 49.060   W70 46.424\n",
      "N42 49.051   W70 46.441\n",
      "N42 49.045   W70 46.461\n",
      "N42 49.041   W70 46.483\n",
      "N42 49.036   W70 46.504\n",
      "N42 49.024   W70 46.522\n",
      "N42 49.010   W70 46.535\n",
      "N42 48.998   W70 46.550\n",
      "N42 48.987   W70 46.567\n",
      "N42 48.976   W70 46.584\n",
      "N42 48.962   W70 46.599\n",
      "N42 48.947   W70 46.613\n",
      "N42 48.931   W70 46.626\n",
      "N42 48.916   W70 46.640\n",
      "N42 48.902   W70 46.653\n",
      "N42 48.885   W70 46.666\n",
      "N42 48.868   W70 46.678\n",
      "N42 48.852   W70 46.688\n",
      "N42 48.835   W70 46.698\n",
      "N42 48.821   W70 46.711\n",
      "N42 48.807   W70 46.727\n",
      "N42 48.796   W70 46.743\n",
      "N42 48.788   W70 46.763\n",
      "N42 48.785   W70 46.783\n",
      "N42 48.778   W70 46.804\n",
      "N42 48.772   W70 46.826\n",
      "N42 48.773   W70 46.846\n",
      "N42 48.778   W70 46.867\n",
      "N42 48.786   W70 46.886\n",
      "N42 48.791   W70 46.907\n",
      "N42 48.792   W70 46.929\n",
      "N42 48.790   W70 46.951\n",
      "N42 48.785   W70 46.972\n",
      "N42 48.777   W70 46.993\n",
      "N42 48.768   W70 47.015\n",
      "N42 48.763   W70 47.036\n",
      "N42 48.761   W70 47.059\n",
      "N42 48.764   W70 47.081\n",
      "N42 48.772   W70 47.100\n",
      "N42 48.778   W70 47.120\n",
      "N42 48.786   W70 47.141\n",
      "N42 48.792   W70 47.160\n",
      "N42 48.799   W70 47.181\n",
      "N42 48.805   W70 47.202\n",
      "N42 48.813   W70 47.221\n",
      "N42 48.818   W70 47.243\n",
      "N42 48.823   W70 47.265\n",
      "N42 48.830   W70 47.287\n",
      "N42 48.836   W70 47.307\n",
      "N42 48.844   W70 47.329\n",
      "N42 48.850   W70 47.350\n",
      "N42 48.857   W70 47.370\n",
      "N42 48.861   W70 47.392\n",
      "N42 48.864   W70 47.414\n",
      "N42 48.866   W70 47.435\n",
      "N42 48.872   W70 47.454\n",
      "N42 48.885   W70 47.468\n",
      "N42 48.895   W70 47.481\n",
      "N42 48.900   W70 47.486\n",
      "N42 48.906   W70 47.486\n",
      "N42 48.916   W70 47.487\n",
      "N42 48.921   W70 47.499\n",
      "N42 48.913   W70 47.512\n",
      "N42 48.903   W70 47.529\n",
      "N42 48.893   W70 47.545\n",
      "N42 48.886   W70 47.554\n",
      "N42 48.880   W70 47.557\n",
      "N42 48.871   W70 47.563\n",
      "N42 48.867   W70 47.572\n",
      "N42 48.868   W70 47.579\n",
      "N42 48.876   W70 47.575\n",
      "N42 48.879   W70 47.570\n",
      "N42 48.877   W70 47.566\n",
      "N42 48.876   W70 47.562\n",
      "N42 48.875   W70 47.556\n",
      "N42 48.873   W70 47.549\n",
      "N42 48.873   W70 47.543\n",
      "N42 48.872   W70 47.535\n",
      "N42 48.872   W70 47.527\n",
      "N42 48.871   W70 47.520\n",
      "N42 48.871   W70 47.511\n",
      "N42 48.871   W70 47.503\n",
      "N42 48.872   W70 47.495\n",
      "N42 48.872   W70 47.487\n",
      "N42 48.872   W70 47.480\n",
      "N42 48.872   W70 47.472\n",
      "N42 48.872   W70 47.466\n",
      "N42 48.873   W70 47.459\n",
      "N42 48.873   W70 47.451\n",
      "N42 48.873   W70 47.445\n",
      "N42 48.873   W70 47.437\n",
      "N42 48.875   W70 47.431\n",
      "N42 48.875   W70 47.423\n",
      "N42 48.875   W70 47.417\n",
      "N42 48.876   W70 47.409\n",
      "N42 48.876   W70 47.402\n",
      "N42 48.876   W70 47.396\n",
      "N42 48.876   W70 47.391\n",
      "N42 48.877   W70 47.383\n",
      "N42 48.877   W70 47.377\n",
      "N42 48.879   W70 47.370\n",
      "N42 48.879   W70 47.364\n",
      "N42 48.879   W70 47.356\n",
      "N42 48.880   W70 47.350\n",
      "N42 48.880   W70 47.343\n",
      "N42 48.880   W70 47.337\n",
      "N42 48.880   W70 47.330\n",
      "N42 48.880   W70 47.324\n",
      "N42 48.881   W70 47.317\n",
      "N42 48.881   W70 47.311\n",
      "N42 48.881   W70 47.305\n",
      "N42 48.881   W70 47.297\n",
      "N42 48.881   W70 47.290\n",
      "N42 48.882   W70 47.283\n",
      "N42 48.882   W70 47.276\n",
      "N42 48.881   W70 47.270\n",
      "N42 48.882   W70 47.263\n",
      "N42 48.888   W70 47.251\n",
      "N42 48.898   W70 47.244\n",
      "N42 48.907   W70 47.253\n",
      "N42 48.908   W70 47.272\n",
      "N42 48.915   W70 47.294\n",
      "N42 48.920   W70 47.317\n",
      "N42 48.922   W70 47.341\n",
      "N42 48.926   W70 47.364\n",
      "N42 48.930   W70 47.387\n",
      "N42 48.934   W70 47.411\n",
      "N42 48.939   W70 47.435\n",
      "N42 48.942   W70 47.457\n",
      "N42 48.942   W70 47.477\n",
      "N42 48.934   W70 47.487\n",
      "N42 48.926   W70 47.489\n",
      "N42 48.922   W70 47.485\n",
      "N42 48.921   W70 47.478\n",
      "N42 48.921   W70 47.471\n",
      "N42 48.920   W70 47.463\n",
      "N42 48.919   W70 47.457\n",
      "N42 48.917   W70 47.449\n",
      "N42 48.916   W70 47.441\n",
      "N42 48.915   W70 47.433\n",
      "N42 48.913   W70 47.426\n",
      "N42 48.912   W70 47.417\n",
      "N42 48.911   W70 47.409\n",
      "N42 48.910   W70 47.401\n",
      "N42 48.908   W70 47.392\n",
      "N42 48.906   W70 47.386\n",
      "N42 48.904   W70 47.377\n",
      "N42 48.902   W70 47.369\n",
      "N42 48.900   W70 47.361\n",
      "N42 48.899   W70 47.352\n",
      "N42 48.897   W70 47.344\n",
      "N42 48.895   W70 47.335\n",
      "N42 48.894   W70 47.328\n",
      "N42 48.893   W70 47.320\n",
      "N42 48.890   W70 47.312\n",
      "N42 48.890   W70 47.306\n",
      "N42 48.889   W70 47.297\n",
      "N42 48.888   W70 47.290\n",
      "N42 48.886   W70 47.283\n",
      "N42 48.885   W70 47.275\n",
      "N42 48.884   W70 47.267\n",
      "N42 48.882   W70 47.260\n",
      "N42 48.881   W70 47.252\n",
      "N42 48.880   W70 47.244\n",
      "N42 48.879   W70 47.236\n",
      "N42 48.879   W70 47.227\n",
      "N42 48.877   W70 47.220\n",
      "N42 48.876   W70 47.212\n",
      "N42 48.875   W70 47.205\n",
      "N42 48.873   W70 47.199\n",
      "N42 48.872   W70 47.191\n",
      "N42 48.871   W70 47.185\n",
      "N42 48.870   W70 47.177\n",
      "N42 48.867   W70 47.169\n",
      "N42 48.866   W70 47.163\n",
      "N42 48.864   W70 47.155\n",
      "N42 48.863   W70 47.148\n",
      "N42 48.862   W70 47.140\n",
      "N42 48.861   W70 47.133\n",
      "N42 48.859   W70 47.126\n",
      "N42 48.858   W70 47.118\n",
      "N42 48.857   W70 47.110\n",
      "N42 48.855   W70 47.102\n",
      "N42 48.854   W70 47.096\n",
      "N42 48.853   W70 47.087\n",
      "N42 48.852   W70 47.081\n",
      "N42 48.850   W70 47.073\n",
      "N42 48.849   W70 47.065\n",
      "N42 48.848   W70 47.057\n",
      "N42 48.846   W70 47.048\n",
      "N42 48.845   W70 47.041\n",
      "N42 48.844   W70 47.034\n",
      "N42 48.843   W70 47.026\n",
      "N42 48.840   W70 47.019\n",
      "N42 48.839   W70 47.011\n",
      "N42 48.837   W70 47.003\n",
      "N42 48.835   W70 46.996\n",
      "N42 48.834   W70 46.987\n",
      "N42 48.832   W70 46.980\n",
      "N42 48.831   W70 46.972\n",
      "N42 48.830   W70 46.965\n",
      "N42 48.828   W70 46.958\n",
      "N42 48.827   W70 46.952\n",
      "N42 48.826   W70 46.945\n",
      "N42 48.825   W70 46.939\n",
      "N42 48.823   W70 46.934\n",
      "N42 48.822   W70 46.929\n",
      "N42 48.822   W70 46.922\n",
      "N42 48.821   W70 46.916\n",
      "N42 48.819   W70 46.911\n",
      "N42 48.818   W70 46.904\n",
      "N42 48.817   W70 46.898\n",
      "N42 48.816   W70 46.891\n",
      "N42 48.814   W70 46.885\n",
      "N42 48.812   W70 46.878\n",
      "N42 48.810   W70 46.872\n",
      "N42 48.809   W70 46.866\n",
      "N42 48.808   W70 46.859\n",
      "N42 48.805   W70 46.854\n",
      "N42 48.804   W70 46.848\n",
      "N42 48.803   W70 46.840\n",
      "N42 48.801   W70 46.833\n",
      "N42 48.800   W70 46.827\n",
      "N42 48.799   W70 46.820\n",
      "N42 48.797   W70 46.814\n",
      "N42 48.796   W70 46.808\n",
      "N42 48.794   W70 46.801\n",
      "N42 48.792   W70 46.795\n",
      "N42 48.791   W70 46.790\n",
      "N42 48.790   W70 46.783\n",
      "N42 48.790   W70 46.778\n",
      "N42 48.788   W70 46.772\n",
      "N42 48.786   W70 46.765\n",
      "N42 48.786   W70 46.759\n",
      "N42 48.785   W70 46.754\n",
      "N42 48.783   W70 46.747\n",
      "N42 48.782   W70 46.742\n",
      "N42 48.781   W70 46.736\n",
      "N42 48.779   W70 46.730\n",
      "N42 48.779   W70 46.724\n",
      "N42 48.778   W70 46.719\n",
      "N42 48.776   W70 46.712\n",
      "N42 48.774   W70 46.706\n",
      "N42 48.773   W70 46.699\n",
      "N42 48.772   W70 46.693\n",
      "N42 48.770   W70 46.687\n",
      "N42 48.769   W70 46.681\n",
      "N42 48.768   W70 46.675\n",
      "N42 48.767   W70 46.669\n",
      "N42 48.765   W70 46.662\n",
      "N42 48.764   W70 46.656\n",
      "N42 48.763   W70 46.651\n",
      "N42 48.760   W70 46.644\n",
      "N42 48.759   W70 46.639\n",
      "N42 48.758   W70 46.633\n",
      "N42 48.756   W70 46.627\n",
      "N42 48.755   W70 46.621\n",
      "N42 48.754   W70 46.616\n",
      "N42 48.752   W70 46.609\n",
      "N42 48.751   W70 46.603\n",
      "N42 48.749   W70 46.598\n",
      "N42 48.747   W70 46.591\n",
      "N42 48.746   W70 46.586\n",
      "N42 48.745   W70 46.580\n",
      "N42 48.743   W70 46.575\n",
      "N42 48.742   W70 46.568\n",
      "N42 48.742   W70 46.563\n",
      "N42 48.740   W70 46.557\n",
      "N42 48.738   W70 46.550\n",
      "N42 48.737   W70 46.544\n",
      "N42 48.736   W70 46.539\n",
      "N42 48.734   W70 46.533\n",
      "N42 48.733   W70 46.528\n",
      "N42 48.732   W70 46.523\n",
      "N42 48.731   W70 46.517\n",
      "N42 48.729   W70 46.512\n",
      "N42 48.728   W70 46.505\n",
      "N42 48.727   W70 46.500\n",
      "N42 48.724   W70 46.493\n",
      "N42 48.723   W70 46.487\n",
      "N42 48.722   W70 46.481\n",
      "N42 48.720   W70 46.475\n",
      "N42 48.719   W70 46.469\n",
      "N42 48.718   W70 46.464\n",
      "N42 48.716   W70 46.457\n",
      "N42 48.715   W70 46.451\n",
      "N42 48.714   W70 46.446\n",
      "N42 48.713   W70 46.439\n",
      "N42 48.711   W70 46.434\n",
      "N42 48.709   W70 46.428\n",
      "N42 48.707   W70 46.423\n",
      "N42 48.706   W70 46.416\n",
      "N42 48.705   W70 46.410\n",
      "N42 48.704   W70 46.405\n",
      "N42 48.701   W70 46.398\n",
      "N42 48.700   W70 46.392\n",
      "N42 48.698   W70 46.387\n",
      "N42 48.697   W70 46.380\n",
      "N42 48.696   W70 46.375\n",
      "N42 48.694   W70 46.370\n",
      "N42 48.693   W70 46.363\n",
      "N42 48.692   W70 46.358\n",
      "N42 48.691   W70 46.352\n",
      "N42 48.688   W70 46.345\n",
      "N42 48.687   W70 46.340\n",
      "N42 48.685   W70 46.335\n",
      "N42 48.684   W70 46.329\n",
      "N42 48.683   W70 46.322\n",
      "N42 48.680   W70 46.316\n",
      "N42 48.679   W70 46.311\n",
      "N42 48.678   W70 46.304\n",
      "N42 48.676   W70 46.298\n",
      "N42 48.675   W70 46.291\n",
      "N42 48.673   W70 46.285\n",
      "N42 48.671   W70 46.280\n",
      "N42 48.670   W70 46.273\n",
      "N42 48.669   W70 46.267\n",
      "N42 48.666   W70 46.260\n",
      "N42 48.665   W70 46.254\n",
      "N42 48.664   W70 46.249\n",
      "N42 48.662   W70 46.242\n",
      "N42 48.660   W70 46.236\n",
      "N42 48.658   W70 46.230\n",
      "N42 48.657   W70 46.223\n",
      "N42 48.656   W70 46.218\n",
      "N42 48.653   W70 46.212\n",
      "N42 48.652   W70 46.205\n",
      "N42 48.651   W70 46.199\n",
      "N42 48.649   W70 46.194\n",
      "N42 48.648   W70 46.187\n",
      "N42 48.647   W70 46.181\n",
      "N42 48.646   W70 46.175\n",
      "N42 48.644   W70 46.170\n",
      "N42 48.643   W70 46.164\n",
      "N42 48.640   W70 46.159\n",
      "N42 48.639   W70 46.152\n",
      "N42 48.638   W70 46.147\n",
      "N42 48.637   W70 46.141\n",
      "N42 48.635   W70 46.136\n",
      "N42 48.634   W70 46.130\n",
      "N42 48.633   W70 46.125\n",
      "N42 48.631   W70 46.119\n",
      "N42 48.630   W70 46.114\n",
      "N42 48.629   W70 46.107\n",
      "N42 48.628   W70 46.102\n",
      "N42 48.626   W70 46.097\n",
      "N42 48.625   W70 46.092\n",
      "N42 48.624   W70 46.087\n",
      "N42 48.622   W70 46.081\n",
      "N42 48.621   W70 46.075\n",
      "N42 48.620   W70 46.070\n",
      "N42 48.619   W70 46.065\n",
      "N42 48.616   W70 46.058\n",
      "N42 48.615   W70 46.053\n",
      "N42 48.613   W70 46.047\n",
      "N42 48.612   W70 46.042\n",
      "N42 48.611   W70 46.036\n",
      "N42 48.610   W70 46.030\n",
      "N42 48.608   W70 46.025\n",
      "N42 48.607   W70 46.020\n",
      "N42 48.606   W70 46.013\n",
      "N42 48.604   W70 46.008\n",
      "N42 48.603   W70 46.002\n",
      "N42 48.602   W70 45.997\n",
      "N42 48.601   W70 45.991\n",
      "N42 48.598   W70 45.985\n",
      "N42 48.597   W70 45.978\n",
      "N42 48.595   W70 45.973\n",
      "N42 48.594   W70 45.968\n",
      "N42 48.593   W70 45.962\n",
      "N42 48.590   W70 45.957\n",
      "N42 48.589   W70 45.951\n",
      "N42 48.588   W70 45.944\n",
      "N42 48.588   W70 45.932\n",
      "N42 48.593   W70 45.919\n",
      "N42 48.602   W70 45.917\n",
      "N42 48.608   W70 45.921\n",
      "N42 48.607   W70 45.932\n",
      "N42 48.606   W70 45.951\n",
      "N42 48.606   W70 45.975\n",
      "N42 48.606   W70 45.999\n",
      "N42 48.602   W70 46.022\n",
      "N42 48.598   W70 46.047\n",
      "N42 48.595   W70 46.070\n",
      "N42 48.595   W70 46.093\n",
      "N42 48.597   W70 46.118\n",
      "N42 48.598   W70 46.142\n",
      "N42 48.599   W70 46.166\n",
      "N42 48.601   W70 46.168\n"
     ]
    }
   ],
   "source": [
    "f.seek(0)  # This sets the pointer back to the beginning of the file. This allows us to run this\n",
    "           # block of code many times without reopening the file each time.\n",
    "\n",
    "for line in f.readlines():        # iterate over each line in the file. Each line is a string.\n",
    "    data = line.split()           # split the line of text into words, each separated by spaces\n",
    "    if not data: continue         # Test for an empty list, the same as if data == []\n",
    "    if data[0] == 'Trackpoint':   # We only want to consider lines that begin with 'Trackpoint', as these hold the data\n",
    "        print(data[1] + ' ' + data[2] + '   ' + data[3] + ' ' + data[4])"
   ]
  },
  {
   "cell_type": "markdown",
   "metadata": {},
   "source": [
    "Now, lets use this script as a base for pulling the data out. We will use the `int` and `float` commands to convert the strings (the 'words' stored in the list `data`) to numbers. Then, we will store these numbers in a new list. "
   ]
  },
  {
   "cell_type": "code",
   "execution_count": 57,
   "metadata": {
    "collapsed": false
   },
   "outputs": [
    {
     "data": {
      "text/plain": [
       "([42.83036666666667,\n",
       "  42.830333333333336,\n",
       "  42.83035,\n",
       "  42.8304,\n",
       "  42.830416666666665,\n",
       "  42.8304,\n",
       "  42.83035,\n",
       "  42.83035,\n",
       "  42.83035,\n",
       "  42.83026666666667,\n",
       "  42.83011666666667,\n",
       "  42.8299,\n",
       "  42.82973333333333,\n",
       "  42.8296,\n",
       "  42.829683333333335,\n",
       "  42.829766666666664,\n",
       "  42.82966666666667,\n",
       "  42.82945,\n",
       "  42.829166666666666,\n",
       "  42.828916666666665,\n",
       "  42.82865,\n",
       "  42.82835,\n",
       "  42.82805,\n",
       "  42.8278,\n",
       "  42.827533333333335,\n",
       "  42.827283333333334,\n",
       "  42.82705,\n",
       "  42.82685,\n",
       "  42.82666666666667,\n",
       "  42.82641666666667,\n",
       "  42.826233333333334,\n",
       "  42.826033333333335,\n",
       "  42.82581666666667,\n",
       "  42.8256,\n",
       "  42.82541666666667,\n",
       "  42.82521666666667,\n",
       "  42.824983333333336,\n",
       "  42.82476666666667,\n",
       "  42.82455,\n",
       "  42.82438333333333,\n",
       "  42.8242,\n",
       "  42.823933333333336,\n",
       "  42.8237,\n",
       "  42.82353333333333,\n",
       "  42.82335,\n",
       "  42.82313333333333,\n",
       "  42.82295,\n",
       "  42.82275,\n",
       "  42.82256666666667,\n",
       "  42.82236666666667,\n",
       "  42.82215,\n",
       "  42.82196666666667,\n",
       "  42.821783333333336,\n",
       "  42.821616666666664,\n",
       "  42.82145,\n",
       "  42.821266666666666,\n",
       "  42.82106666666667,\n",
       "  42.82086666666667,\n",
       "  42.82073333333334,\n",
       "  42.820616666666666,\n",
       "  42.820433333333334,\n",
       "  42.820283333333336,\n",
       "  42.82013333333333,\n",
       "  42.81998333333333,\n",
       "  42.81985,\n",
       "  42.8197,\n",
       "  42.8195,\n",
       "  42.819316666666666,\n",
       "  42.81923333333334,\n",
       "  42.81923333333334,\n",
       "  42.81921666666667,\n",
       "  42.81908333333333,\n",
       "  42.818933333333334,\n",
       "  42.81875,\n",
       "  42.818533333333335,\n",
       "  42.81831666666667,\n",
       "  42.81818333333333,\n",
       "  42.81811666666667,\n",
       "  42.81803333333333,\n",
       "  42.81786666666667,\n",
       "  42.81766666666667,\n",
       "  42.81751666666667,\n",
       "  42.81741666666667,\n",
       "  42.81735,\n",
       "  42.81726666666667,\n",
       "  42.81706666666667,\n",
       "  42.816833333333335,\n",
       "  42.816633333333336,\n",
       "  42.81645,\n",
       "  42.816266666666664,\n",
       "  42.81603333333334,\n",
       "  42.815783333333336,\n",
       "  42.81551666666667,\n",
       "  42.815266666666666,\n",
       "  42.81503333333333,\n",
       "  42.81475,\n",
       "  42.81446666666667,\n",
       "  42.8142,\n",
       "  42.813916666666664,\n",
       "  42.81368333333333,\n",
       "  42.81345,\n",
       "  42.813266666666664,\n",
       "  42.81313333333333,\n",
       "  42.81308333333333,\n",
       "  42.81296666666667,\n",
       "  42.812866666666665,\n",
       "  42.81288333333333,\n",
       "  42.81296666666667,\n",
       "  42.8131,\n",
       "  42.813183333333335,\n",
       "  42.8132,\n",
       "  42.81316666666667,\n",
       "  42.81308333333333,\n",
       "  42.81295,\n",
       "  42.8128,\n",
       "  42.81271666666667,\n",
       "  42.81268333333333,\n",
       "  42.812733333333334,\n",
       "  42.812866666666665,\n",
       "  42.81296666666667,\n",
       "  42.8131,\n",
       "  42.8132,\n",
       "  42.813316666666665,\n",
       "  42.81341666666667,\n",
       "  42.81355,\n",
       "  42.813633333333335,\n",
       "  42.813716666666664,\n",
       "  42.813833333333335,\n",
       "  42.81393333333333,\n",
       "  42.81406666666667,\n",
       "  42.814166666666665,\n",
       "  42.814283333333336,\n",
       "  42.81435,\n",
       "  42.8144,\n",
       "  42.814433333333334,\n",
       "  42.81453333333333,\n",
       "  42.81475,\n",
       "  42.81491666666667,\n",
       "  42.815,\n",
       "  42.8151,\n",
       "  42.815266666666666,\n",
       "  42.81535,\n",
       "  42.815216666666664,\n",
       "  42.81505,\n",
       "  42.814883333333334,\n",
       "  42.814766666666664,\n",
       "  42.81466666666667,\n",
       "  42.81451666666667,\n",
       "  42.81445,\n",
       "  42.81446666666667,\n",
       "  42.8146,\n",
       "  42.81465,\n",
       "  42.814616666666666,\n",
       "  42.8146,\n",
       "  42.81458333333333,\n",
       "  42.81455,\n",
       "  42.81455,\n",
       "  42.81453333333333,\n",
       "  42.81453333333333,\n",
       "  42.81451666666667,\n",
       "  42.81451666666667,\n",
       "  42.81451666666667,\n",
       "  42.81453333333333,\n",
       "  42.81453333333333,\n",
       "  42.81453333333333,\n",
       "  42.81453333333333,\n",
       "  42.81453333333333,\n",
       "  42.81455,\n",
       "  42.81455,\n",
       "  42.81455,\n",
       "  42.81455,\n",
       "  42.81458333333333,\n",
       "  42.81458333333333,\n",
       "  42.81458333333333,\n",
       "  42.8146,\n",
       "  42.8146,\n",
       "  42.8146,\n",
       "  42.8146,\n",
       "  42.814616666666666,\n",
       "  42.814616666666666,\n",
       "  42.81465,\n",
       "  42.81465,\n",
       "  42.81465,\n",
       "  42.81466666666667,\n",
       "  42.81466666666667,\n",
       "  42.81466666666667,\n",
       "  42.81466666666667,\n",
       "  42.81466666666667,\n",
       "  42.814683333333335,\n",
       "  42.814683333333335,\n",
       "  42.814683333333335,\n",
       "  42.814683333333335,\n",
       "  42.814683333333335,\n",
       "  42.8147,\n",
       "  42.8147,\n",
       "  42.814683333333335,\n",
       "  42.8147,\n",
       "  42.8148,\n",
       "  42.81496666666666,\n",
       "  42.81511666666667,\n",
       "  42.815133333333335,\n",
       "  42.81525,\n",
       "  42.815333333333335,\n",
       "  42.81536666666667,\n",
       "  42.81543333333333,\n",
       "  42.8155,\n",
       "  42.81556666666667,\n",
       "  42.81565,\n",
       "  42.8157,\n",
       "  42.8157,\n",
       "  42.81556666666667,\n",
       "  42.81543333333333,\n",
       "  42.81536666666667,\n",
       "  42.81535,\n",
       "  42.81535,\n",
       "  42.815333333333335,\n",
       "  42.81531666666667,\n",
       "  42.81528333333333,\n",
       "  42.815266666666666,\n",
       "  42.81525,\n",
       "  42.815216666666664,\n",
       "  42.8152,\n",
       "  42.81518333333333,\n",
       "  42.81516666666667,\n",
       "  42.815133333333335,\n",
       "  42.8151,\n",
       "  42.81506666666667,\n",
       "  42.81503333333333,\n",
       "  42.815,\n",
       "  42.81498333333333,\n",
       "  42.81495,\n",
       "  42.81491666666667,\n",
       "  42.8149,\n",
       "  42.814883333333334,\n",
       "  42.81483333333333,\n",
       "  42.81483333333333,\n",
       "  42.814816666666665,\n",
       "  42.8148,\n",
       "  42.814766666666664,\n",
       "  42.81475,\n",
       "  42.814733333333336,\n",
       "  42.8147,\n",
       "  42.814683333333335,\n",
       "  42.81466666666667,\n",
       "  42.81465,\n",
       "  42.81465,\n",
       "  42.814616666666666,\n",
       "  42.8146,\n",
       "  42.81458333333333,\n",
       "  42.81455,\n",
       "  42.81453333333333,\n",
       "  42.81451666666667,\n",
       "  42.8145,\n",
       "  42.81445,\n",
       "  42.814433333333334,\n",
       "  42.8144,\n",
       "  42.81438333333333,\n",
       "  42.814366666666665,\n",
       "  42.81435,\n",
       "  42.81431666666667,\n",
       "  42.8143,\n",
       "  42.814283333333336,\n",
       "  42.81425,\n",
       "  42.814233333333334,\n",
       "  42.81421666666667,\n",
       "  42.8142,\n",
       "  42.814166666666665,\n",
       "  42.81415,\n",
       "  42.81413333333333,\n",
       "  42.8141,\n",
       "  42.814083333333336,\n",
       "  42.81406666666667,\n",
       "  42.81405,\n",
       "  42.814,\n",
       "  42.81398333333333,\n",
       "  42.81395,\n",
       "  42.813916666666664,\n",
       "  42.8139,\n",
       "  42.81386666666667,\n",
       "  42.81385,\n",
       "  42.813833333333335,\n",
       "  42.8138,\n",
       "  42.81378333333333,\n",
       "  42.813766666666666,\n",
       "  42.81375,\n",
       "  42.813716666666664,\n",
       "  42.8137,\n",
       "  42.8137,\n",
       "  42.81368333333333,\n",
       "  42.81365,\n",
       "  42.813633333333335,\n",
       "  42.81361666666667,\n",
       "  42.8136,\n",
       "  42.81356666666667,\n",
       "  42.81353333333333,\n",
       "  42.8135,\n",
       "  42.81348333333333,\n",
       "  42.81346666666666,\n",
       "  42.81341666666667,\n",
       "  42.8134,\n",
       "  42.813383333333334,\n",
       "  42.81335,\n",
       "  42.81333333333333,\n",
       "  42.813316666666665,\n",
       "  42.81328333333333,\n",
       "  42.813266666666664,\n",
       "  42.813233333333336,\n",
       "  42.8132,\n",
       "  42.813183333333335,\n",
       "  42.81316666666667,\n",
       "  42.81316666666667,\n",
       "  42.81313333333333,\n",
       "  42.8131,\n",
       "  42.8131,\n",
       "  42.81308333333333,\n",
       "  42.81305,\n",
       "  42.81303333333334,\n",
       "  42.81301666666667,\n",
       "  42.812983333333335,\n",
       "  42.812983333333335,\n",
       "  42.81296666666667,\n",
       "  42.81293333333333,\n",
       "  42.8129,\n",
       "  42.81288333333333,\n",
       "  42.812866666666665,\n",
       "  42.81283333333333,\n",
       "  42.81281666666667,\n",
       "  42.8128,\n",
       "  42.812783333333336,\n",
       "  42.81275,\n",
       "  42.812733333333334,\n",
       "  42.81271666666667,\n",
       "  42.812666666666665,\n",
       "  42.81265,\n",
       "  42.81263333333333,\n",
       "  42.8126,\n",
       "  42.812583333333336,\n",
       "  42.81256666666667,\n",
       "  42.812533333333334,\n",
       "  42.81251666666667,\n",
       "  42.81248333333333,\n",
       "  42.81245,\n",
       "  42.81243333333333,\n",
       "  42.812416666666664,\n",
       "  42.81238333333334,\n",
       "  42.81236666666667,\n",
       "  42.81236666666667,\n",
       "  42.812333333333335,\n",
       "  42.8123,\n",
       "  42.81228333333333,\n",
       "  42.812266666666666,\n",
       "  42.81223333333333,\n",
       "  42.812216666666664,\n",
       "  42.8122,\n",
       "  42.81218333333333,\n",
       "  42.81215,\n",
       "  42.812133333333335,\n",
       "  42.81211666666667,\n",
       "  42.81206666666667,\n",
       "  42.81205,\n",
       "  42.81203333333333,\n",
       "  42.812,\n",
       "  42.81198333333333,\n",
       "  42.81196666666666,\n",
       "  42.811933333333336,\n",
       "  42.81191666666667,\n",
       "  42.8119,\n",
       "  42.811883333333334,\n",
       "  42.81185,\n",
       "  42.811816666666665,\n",
       "  42.81178333333333,\n",
       "  42.811766666666664,\n",
       "  42.81175,\n",
       "  42.811733333333336,\n",
       "  42.811683333333335,\n",
       "  42.81166666666667,\n",
       "  42.81163333333333,\n",
       "  42.811616666666666,\n",
       "  42.8116,\n",
       "  42.811566666666664,\n",
       "  42.81155,\n",
       "  42.81153333333334,\n",
       "  42.81151666666667,\n",
       "  42.81146666666667,\n",
       "  42.81145,\n",
       "  42.811416666666666,\n",
       "  42.8114,\n",
       "  42.81138333333333,\n",
       "  42.81133333333333,\n",
       "  42.81131666666667,\n",
       "  42.8113,\n",
       "  42.81126666666667,\n",
       "  42.81125,\n",
       "  42.81121666666667,\n",
       "  42.81118333333333,\n",
       "  42.811166666666665,\n",
       "  42.81115,\n",
       "  42.8111,\n",
       "  42.811083333333336,\n",
       "  42.81106666666667,\n",
       "  42.811033333333334,\n",
       "  42.811,\n",
       "  42.810966666666666,\n",
       "  42.81095,\n",
       "  42.81093333333333,\n",
       "  42.81088333333334,\n",
       "  42.81086666666667,\n",
       "  42.81085,\n",
       "  42.81081666666667,\n",
       "  42.8108,\n",
       "  42.81078333333333,\n",
       "  42.810766666666666,\n",
       "  42.81073333333333,\n",
       "  42.810716666666664,\n",
       "  42.81066666666667,\n",
       "  42.81065,\n",
       "  42.810633333333335,\n",
       "  42.81061666666667,\n",
       "  42.810583333333334,\n",
       "  42.810566666666666,\n",
       "  42.81055,\n",
       "  42.810516666666665,\n",
       "  42.8105,\n",
       "  42.81048333333333,\n",
       "  42.81046666666667,\n",
       "  42.810433333333336,\n",
       "  42.81041666666667,\n",
       "  42.8104,\n",
       "  42.81036666666667,\n",
       "  42.81035,\n",
       "  42.81033333333333,\n",
       "  42.810316666666665,\n",
       "  42.810266666666664,\n",
       "  42.81025,\n",
       "  42.81021666666667,\n",
       "  42.8102,\n",
       "  42.810183333333335,\n",
       "  42.81016666666667,\n",
       "  42.81013333333333,\n",
       "  42.810116666666666,\n",
       "  42.8101,\n",
       "  42.810066666666664,\n",
       "  42.81005,\n",
       "  42.81003333333334,\n",
       "  42.81001666666667,\n",
       "  42.80996666666667,\n",
       "  42.80995,\n",
       "  42.809916666666666,\n",
       "  42.8099,\n",
       "  42.80988333333333,\n",
       "  42.80983333333333,\n",
       "  42.80981666666667,\n",
       "  42.8098,\n",
       "  42.8098,\n",
       "  42.80988333333333,\n",
       "  42.81003333333334,\n",
       "  42.81013333333333,\n",
       "  42.810116666666666,\n",
       "  42.8101,\n",
       "  42.8101,\n",
       "  42.8101,\n",
       "  42.81003333333334,\n",
       "  42.80996666666667,\n",
       "  42.809916666666666,\n",
       "  42.809916666666666,\n",
       "  42.80995,\n",
       "  42.80996666666667,\n",
       "  42.809983333333335,\n",
       "  42.81001666666667],\n",
       " [70.75688333333333,\n",
       "  70.75691666666667,\n",
       "  70.7568,\n",
       "  70.75666666666666,\n",
       "  70.75655,\n",
       "  70.75631666666666,\n",
       "  70.75616666666667,\n",
       "  70.75603333333333,\n",
       "  70.75588333333333,\n",
       "  70.75568333333334,\n",
       "  70.7555,\n",
       "  70.7554,\n",
       "  70.75543333333333,\n",
       "  70.75565,\n",
       "  70.75601666666667,\n",
       "  70.75635,\n",
       "  70.75666666666666,\n",
       "  70.75686666666667,\n",
       "  70.757,\n",
       "  70.75716666666666,\n",
       "  70.75733333333334,\n",
       "  70.75745,\n",
       "  70.75758333333333,\n",
       "  70.75775,\n",
       "  70.75793333333333,\n",
       "  70.75815,\n",
       "  70.75836666666666,\n",
       "  70.75866666666667,\n",
       "  70.75895,\n",
       "  70.7592,\n",
       "  70.75948333333334,\n",
       "  70.75976666666666,\n",
       "  70.76001666666667,\n",
       "  70.76028333333333,\n",
       "  70.76053333333333,\n",
       "  70.76076666666667,\n",
       "  70.761,\n",
       "  70.76125,\n",
       "  70.7615,\n",
       "  70.76178333333333,\n",
       "  70.76203333333333,\n",
       "  70.76223333333333,\n",
       "  70.76245,\n",
       "  70.7627,\n",
       "  70.763,\n",
       "  70.76326666666667,\n",
       "  70.76351666666666,\n",
       "  70.7638,\n",
       "  70.76408333333333,\n",
       "  70.76435,\n",
       "  70.76461666666667,\n",
       "  70.76486666666666,\n",
       "  70.76515,\n",
       "  70.76543333333333,\n",
       "  70.76575,\n",
       "  70.76603333333334,\n",
       "  70.76628333333333,\n",
       "  70.76655,\n",
       "  70.76686666666667,\n",
       "  70.76718333333334,\n",
       "  70.76753333333333,\n",
       "  70.76783333333333,\n",
       "  70.76813333333334,\n",
       "  70.76848333333334,\n",
       "  70.7688,\n",
       "  70.76911666666666,\n",
       "  70.7694,\n",
       "  70.76968333333333,\n",
       "  70.77001666666666,\n",
       "  70.77038333333333,\n",
       "  70.77075,\n",
       "  70.77106666666667,\n",
       "  70.7714,\n",
       "  70.77165,\n",
       "  70.77188333333334,\n",
       "  70.77215,\n",
       "  70.77241666666667,\n",
       "  70.77276666666667,\n",
       "  70.77311666666667,\n",
       "  70.77343333333333,\n",
       "  70.77373333333334,\n",
       "  70.77401666666667,\n",
       "  70.77435,\n",
       "  70.77471666666666,\n",
       "  70.77506666666666,\n",
       "  70.77536666666667,\n",
       "  70.77558333333333,\n",
       "  70.77583333333334,\n",
       "  70.77611666666667,\n",
       "  70.7764,\n",
       "  70.77665,\n",
       "  70.77688333333333,\n",
       "  70.7771,\n",
       "  70.77733333333333,\n",
       "  70.77755,\n",
       "  70.77776666666666,\n",
       "  70.77796666666667,\n",
       "  70.77813333333333,\n",
       "  70.7783,\n",
       "  70.77851666666666,\n",
       "  70.77878333333334,\n",
       "  70.77905,\n",
       "  70.77938333333333,\n",
       "  70.77971666666667,\n",
       "  70.78006666666667,\n",
       "  70.78043333333333,\n",
       "  70.78076666666666,\n",
       "  70.78111666666666,\n",
       "  70.78143333333334,\n",
       "  70.78178333333334,\n",
       "  70.78215,\n",
       "  70.78251666666667,\n",
       "  70.78286666666666,\n",
       "  70.78321666666666,\n",
       "  70.78358333333334,\n",
       "  70.78393333333334,\n",
       "  70.78431666666667,\n",
       "  70.78468333333333,\n",
       "  70.785,\n",
       "  70.78533333333333,\n",
       "  70.78568333333334,\n",
       "  70.786,\n",
       "  70.78635,\n",
       "  70.7867,\n",
       "  70.78701666666667,\n",
       "  70.78738333333334,\n",
       "  70.78775,\n",
       "  70.78811666666667,\n",
       "  70.78845,\n",
       "  70.78881666666666,\n",
       "  70.78916666666667,\n",
       "  70.7895,\n",
       "  70.78986666666667,\n",
       "  70.79023333333333,\n",
       "  70.79058333333333,\n",
       "  70.7909,\n",
       "  70.79113333333333,\n",
       "  70.79135,\n",
       "  70.79143333333333,\n",
       "  70.79143333333333,\n",
       "  70.79145,\n",
       "  70.79165,\n",
       "  70.79186666666666,\n",
       "  70.79215,\n",
       "  70.79241666666667,\n",
       "  70.79256666666667,\n",
       "  70.79261666666666,\n",
       "  70.79271666666666,\n",
       "  70.79286666666667,\n",
       "  70.79298333333334,\n",
       "  70.79291666666667,\n",
       "  70.79283333333333,\n",
       "  70.79276666666667,\n",
       "  70.7927,\n",
       "  70.7926,\n",
       "  70.79248333333334,\n",
       "  70.79238333333333,\n",
       "  70.79225,\n",
       "  70.79211666666667,\n",
       "  70.792,\n",
       "  70.79185,\n",
       "  70.79171666666667,\n",
       "  70.79158333333334,\n",
       "  70.79145,\n",
       "  70.79133333333333,\n",
       "  70.7912,\n",
       "  70.7911,\n",
       "  70.79098333333333,\n",
       "  70.79085,\n",
       "  70.79075,\n",
       "  70.79061666666666,\n",
       "  70.79051666666666,\n",
       "  70.79038333333334,\n",
       "  70.79028333333333,\n",
       "  70.79015,\n",
       "  70.79003333333333,\n",
       "  70.78993333333334,\n",
       "  70.78985,\n",
       "  70.78971666666666,\n",
       "  70.78961666666666,\n",
       "  70.7895,\n",
       "  70.7894,\n",
       "  70.78926666666666,\n",
       "  70.78916666666667,\n",
       "  70.78905,\n",
       "  70.78895,\n",
       "  70.78883333333333,\n",
       "  70.78873333333334,\n",
       "  70.78861666666667,\n",
       "  70.78851666666667,\n",
       "  70.78841666666666,\n",
       "  70.78828333333334,\n",
       "  70.78816666666667,\n",
       "  70.78805,\n",
       "  70.78793333333333,\n",
       "  70.78783333333334,\n",
       "  70.78771666666667,\n",
       "  70.78751666666666,\n",
       "  70.7874,\n",
       "  70.78755,\n",
       "  70.78786666666667,\n",
       "  70.78823333333334,\n",
       "  70.78861666666667,\n",
       "  70.78901666666667,\n",
       "  70.7894,\n",
       "  70.78978333333333,\n",
       "  70.79018333333333,\n",
       "  70.79058333333333,\n",
       "  70.79095,\n",
       "  70.79128333333334,\n",
       "  70.79145,\n",
       "  70.79148333333333,\n",
       "  70.79141666666666,\n",
       "  70.7913,\n",
       "  70.79118333333334,\n",
       "  70.79105,\n",
       "  70.79095,\n",
       "  70.79081666666667,\n",
       "  70.79068333333333,\n",
       "  70.79055,\n",
       "  70.79043333333334,\n",
       "  70.79028333333333,\n",
       "  70.79015,\n",
       "  70.79001666666667,\n",
       "  70.78986666666667,\n",
       "  70.78976666666667,\n",
       "  70.78961666666666,\n",
       "  70.78948333333334,\n",
       "  70.78935,\n",
       "  70.7892,\n",
       "  70.78906666666667,\n",
       "  70.78891666666667,\n",
       "  70.7888,\n",
       "  70.78866666666667,\n",
       "  70.78853333333333,\n",
       "  70.78843333333333,\n",
       "  70.78828333333334,\n",
       "  70.78816666666667,\n",
       "  70.78805,\n",
       "  70.78791666666666,\n",
       "  70.78778333333334,\n",
       "  70.78766666666667,\n",
       "  70.78753333333333,\n",
       "  70.7874,\n",
       "  70.78726666666667,\n",
       "  70.78711666666666,\n",
       "  70.787,\n",
       "  70.78686666666667,\n",
       "  70.78675,\n",
       "  70.78665,\n",
       "  70.78651666666667,\n",
       "  70.78641666666667,\n",
       "  70.78628333333333,\n",
       "  70.78615,\n",
       "  70.78605,\n",
       "  70.78591666666667,\n",
       "  70.7858,\n",
       "  70.78566666666667,\n",
       "  70.78555,\n",
       "  70.78543333333333,\n",
       "  70.7853,\n",
       "  70.78516666666667,\n",
       "  70.78503333333333,\n",
       "  70.78493333333333,\n",
       "  70.78478333333334,\n",
       "  70.78468333333333,\n",
       "  70.78455,\n",
       "  70.78441666666667,\n",
       "  70.78428333333333,\n",
       "  70.78413333333333,\n",
       "  70.78401666666667,\n",
       "  70.7839,\n",
       "  70.78376666666666,\n",
       "  70.78365,\n",
       "  70.78351666666667,\n",
       "  70.78338333333333,\n",
       "  70.78326666666666,\n",
       "  70.78311666666667,\n",
       "  70.783,\n",
       "  70.78286666666666,\n",
       "  70.78275,\n",
       "  70.78263333333334,\n",
       "  70.78253333333333,\n",
       "  70.78241666666666,\n",
       "  70.78231666666667,\n",
       "  70.78223333333334,\n",
       "  70.78215,\n",
       "  70.78203333333333,\n",
       "  70.78193333333333,\n",
       "  70.78185,\n",
       "  70.78173333333334,\n",
       "  70.78163333333333,\n",
       "  70.78151666666666,\n",
       "  70.78141666666667,\n",
       "  70.7813,\n",
       "  70.7812,\n",
       "  70.7811,\n",
       "  70.78098333333334,\n",
       "  70.7809,\n",
       "  70.7808,\n",
       "  70.78066666666666,\n",
       "  70.78055,\n",
       "  70.78045,\n",
       "  70.78033333333333,\n",
       "  70.78023333333333,\n",
       "  70.78013333333334,\n",
       "  70.78001666666667,\n",
       "  70.77991666666667,\n",
       "  70.77983333333333,\n",
       "  70.77971666666667,\n",
       "  70.77963333333334,\n",
       "  70.77953333333333,\n",
       "  70.77941666666666,\n",
       "  70.77931666666667,\n",
       "  70.77923333333334,\n",
       "  70.77911666666667,\n",
       "  70.77903333333333,\n",
       "  70.77893333333333,\n",
       "  70.77883333333334,\n",
       "  70.77873333333334,\n",
       "  70.77865,\n",
       "  70.77853333333333,\n",
       "  70.77843333333334,\n",
       "  70.77831666666667,\n",
       "  70.77821666666667,\n",
       "  70.77811666666666,\n",
       "  70.77801666666667,\n",
       "  70.77791666666667,\n",
       "  70.77781666666667,\n",
       "  70.7777,\n",
       "  70.7776,\n",
       "  70.77751666666667,\n",
       "  70.7774,\n",
       "  70.77731666666666,\n",
       "  70.77721666666666,\n",
       "  70.77711666666667,\n",
       "  70.77701666666667,\n",
       "  70.77693333333333,\n",
       "  70.77681666666666,\n",
       "  70.77671666666667,\n",
       "  70.77663333333334,\n",
       "  70.77651666666667,\n",
       "  70.77643333333333,\n",
       "  70.77633333333333,\n",
       "  70.77625,\n",
       "  70.77613333333333,\n",
       "  70.77605,\n",
       "  70.77595,\n",
       "  70.77583333333334,\n",
       "  70.77573333333333,\n",
       "  70.77565,\n",
       "  70.77555,\n",
       "  70.77546666666667,\n",
       "  70.77538333333334,\n",
       "  70.77528333333333,\n",
       "  70.7752,\n",
       "  70.77508333333333,\n",
       "  70.775,\n",
       "  70.77488333333334,\n",
       "  70.77478333333333,\n",
       "  70.77468333333333,\n",
       "  70.77458333333334,\n",
       "  70.77448333333334,\n",
       "  70.7744,\n",
       "  70.77428333333333,\n",
       "  70.77418333333334,\n",
       "  70.7741,\n",
       "  70.77398333333333,\n",
       "  70.7739,\n",
       "  70.7738,\n",
       "  70.77371666666667,\n",
       "  70.7736,\n",
       "  70.7735,\n",
       "  70.77341666666666,\n",
       "  70.7733,\n",
       "  70.7732,\n",
       "  70.77311666666667,\n",
       "  70.773,\n",
       "  70.77291666666666,\n",
       "  70.77283333333334,\n",
       "  70.77271666666667,\n",
       "  70.77263333333333,\n",
       "  70.77253333333333,\n",
       "  70.77241666666667,\n",
       "  70.77233333333334,\n",
       "  70.77225,\n",
       "  70.77215,\n",
       "  70.77203333333334,\n",
       "  70.77193333333334,\n",
       "  70.77185,\n",
       "  70.77173333333333,\n",
       "  70.77163333333333,\n",
       "  70.77151666666667,\n",
       "  70.77141666666667,\n",
       "  70.77133333333333,\n",
       "  70.77121666666666,\n",
       "  70.77111666666667,\n",
       "  70.771,\n",
       "  70.7709,\n",
       "  70.77081666666666,\n",
       "  70.7707,\n",
       "  70.7706,\n",
       "  70.7705,\n",
       "  70.77038333333333,\n",
       "  70.7703,\n",
       "  70.7702,\n",
       "  70.77008333333333,\n",
       "  70.76998333333333,\n",
       "  70.7699,\n",
       "  70.76978333333334,\n",
       "  70.76968333333333,\n",
       "  70.76958333333333,\n",
       "  70.7695,\n",
       "  70.7694,\n",
       "  70.76931666666667,\n",
       "  70.7692,\n",
       "  70.76911666666666,\n",
       "  70.76901666666667,\n",
       "  70.76893333333334,\n",
       "  70.76883333333333,\n",
       "  70.76875,\n",
       "  70.76865,\n",
       "  70.76856666666667,\n",
       "  70.76845,\n",
       "  70.76836666666667,\n",
       "  70.76828333333333,\n",
       "  70.7682,\n",
       "  70.76811666666667,\n",
       "  70.76801666666667,\n",
       "  70.76791666666666,\n",
       "  70.76783333333333,\n",
       "  70.76775,\n",
       "  70.76763333333334,\n",
       "  70.76755,\n",
       "  70.76745,\n",
       "  70.76736666666666,\n",
       "  70.76726666666667,\n",
       "  70.76716666666667,\n",
       "  70.76708333333333,\n",
       "  70.767,\n",
       "  70.76688333333334,\n",
       "  70.7668,\n",
       "  70.7667,\n",
       "  70.76661666666666,\n",
       "  70.76651666666666,\n",
       "  70.76641666666667,\n",
       "  70.7663,\n",
       "  70.76621666666666,\n",
       "  70.76613333333333,\n",
       "  70.76603333333334,\n",
       "  70.76595,\n",
       "  70.76585,\n",
       "  70.76573333333333,\n",
       "  70.76553333333334,\n",
       "  70.76531666666666,\n",
       "  70.76528333333333,\n",
       "  70.76535,\n",
       "  70.76553333333334,\n",
       "  70.76585,\n",
       "  70.76625,\n",
       "  70.76665,\n",
       "  70.76703333333333,\n",
       "  70.76745,\n",
       "  70.76783333333333,\n",
       "  70.76821666666666,\n",
       "  70.76863333333333,\n",
       "  70.76903333333334,\n",
       "  70.76943333333334,\n",
       "  70.76946666666667])"
      ]
     },
     "execution_count": 57,
     "metadata": {},
     "output_type": "execute_result"
    }
   ],
   "source": [
    "f.seek(0)  \n",
    "\n",
    "latitudes = []     # create empty lists to store numerical values of lat and lon\n",
    "longitudes = []\n",
    "\n",
    "for line in f.readlines():\n",
    "    data = line.split()\n",
    "    if not data: continue\n",
    "    if data[0] == 'Trackpoint':\n",
    "        lat = int(data[1][1:]) + float(data[2])/60   # the index to data[1] is used to trim the 'N' off of the string.\n",
    "        latitudes.append(lat)\n",
    "        lon = int(data[3][1:]) + float(data[4])/60   \n",
    "        longitudes.append(lon)\n",
    "\n",
    "latitudes, longitudes"
   ]
  },
  {
   "cell_type": "markdown",
   "metadata": {
    "collapsed": true
   },
   "source": [
    "To write a file, open it with the `'w'` flag, which specifies the file as writable. This example shows how to write the latitude and longitude to a file, with formatted values. [Learn more about string formatting from the python documentation](https://docs.python.org/2/library/string.html#format-string-syntax)"
   ]
  },
  {
   "cell_type": "code",
   "execution_count": 58,
   "metadata": {
    "collapsed": false
   },
   "outputs": [],
   "source": [
    "f = open('output.dat', 'w')\n",
    "\n",
    "for lat, lon in zip(latitudes, longitudes):\n",
    "    f.write('{:4.2f}, {:4.2f}\\n'.format(lat, lon))   # python 3.x style formatting\n",
    "#     f.write('%4.2f, %4.2f' % (lat, lon))           # python 2.x style formatting\n",
    "\n",
    "f.close()"
   ]
  },
  {
   "cell_type": "markdown",
   "metadata": {},
   "source": [
    "There is a new syntax that shortens the open, work, close sequence. Use the command `with`, for example, we could have done the above example as"
   ]
  },
  {
   "cell_type": "code",
   "execution_count": 59,
   "metadata": {
    "collapsed": true
   },
   "outputs": [],
   "source": [
    "with open('output.dat', 'w') as f:\n",
    "    f.write('{:4.2f}, {:4.2f}\\n'.format(lat, lon))"
   ]
  },
  {
   "cell_type": "code",
   "execution_count": null,
   "metadata": {
    "collapsed": true
   },
   "outputs": [],
   "source": []
  }
 ],
 "metadata": {
  "kernelspec": {
   "display_name": "Python 3",
   "language": "python",
   "name": "python3"
  },
  "language_info": {
   "codemirror_mode": {
    "name": "ipython",
    "version": 3
   },
   "file_extension": ".py",
   "mimetype": "text/x-python",
   "name": "python",
   "nbconvert_exporter": "python",
   "pygments_lexer": "ipython3",
   "version": "3.5.1"
  }
 },
 "nbformat": 4,
 "nbformat_minor": 0
}
